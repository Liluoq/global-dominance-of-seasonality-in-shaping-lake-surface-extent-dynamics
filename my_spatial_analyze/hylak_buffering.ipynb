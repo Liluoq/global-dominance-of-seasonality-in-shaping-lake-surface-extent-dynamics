{
 "cells": [
  {
   "cell_type": "code",
   "execution_count": 1,
   "metadata": {},
   "outputs": [],
   "source": [
    "import geopandas as gpd\n",
    "import pandas as pd\n",
    "import numpy as np\n",
    "import os\n",
    "from pyproj import CRS\n",
    "\n"
   ]
  },
  {
   "cell_type": "code",
   "execution_count": 4,
   "metadata": {},
   "outputs": [
    {
     "name": "stdout",
     "output_type": "stream",
     "text": [
      "Initializing pandarallel...\n",
      "INFO: Pandarallel will run on 12 workers.\n",
      "INFO: Pandarallel will use standard multiprocessing data transfer (pipe) to transfer data between the main process and workers.\n",
      "Processing 1020000010\n",
      "Processing 1020011530\n",
      "Processing 1020018110\n",
      "Processing 1020021940\n",
      "Processing 1020027430\n",
      "Processing 1020034170\n",
      "Processing 1020035180\n",
      "Processing 1020040190\n",
      "Processing 2020000010\n",
      "Processing 2020003440\n",
      "Processing 2020018240\n",
      "Processing 2020024230\n",
      "Processing 2020033490\n",
      "Processing 2020041390\n",
      "Processing 2020057170\n",
      "Processing 2020065840\n",
      "Processing 2020071190\n",
      "Processing 3020000010\n",
      "Processing 3020003790\n",
      "Processing 3020005240\n",
      "Processing 3020008670\n",
      "Processing 3020009320\n",
      "Processing 3020024310\n",
      "Processing 4020000010\n",
      "Processing 4020006940\n",
      "Processing 4020015090\n",
      "Processing 4020024190\n",
      "Processing 4020034510\n",
      "Processing 4020050210\n",
      "Processing 4020050220\n",
      "Processing 4020050290\n",
      "Processing 4020050470\n",
      "Processing 5020000010\n",
      "Processing 5020015660\n",
      "Processing 5020037270\n",
      "Processing 5020049720\n",
      "Processing 5020082270\n",
      "Processing 6020000010\n",
      "Processing 6020006540\n",
      "Processing 6020008320\n",
      "Processing 6020014330\n",
      "Processing 6020017370\n",
      "Processing 6020021870\n",
      "Processing 6020029280\n",
      "Processing 7020000010\n",
      "Processing 7020014250\n",
      "Processing 7020021430\n",
      "Processing 7020024600\n",
      "Processing 7020038340\n",
      "Processing 7020046750\n",
      "Processing 7020047840\n",
      "Processing 7020065090\n",
      "Processing 8020000010\n",
      "Processing 8020008900\n",
      "Processing 8020010700\n",
      "Processing 8020020760\n",
      "Processing 8020022890\n",
      "Processing 8020032840\n",
      "Processing 8020044560\n",
      "Processing 9020000010\n"
     ]
    }
   ],
   "source": [
    "# remove lakes that are completely contained by new lake geometries in the GLAKES dataset\n",
    "\n",
    "hybas_id_list = [\n",
    "    1020000010, 1020011530, 1020018110, 1020021940, 1020027430, 1020034170, 1020035180, 1020040190,\n",
    "    2020000010, 2020003440, 2020018240, 2020024230, 2020033490, 2020041390, 2020057170, 2020065840, 2020071190,\n",
    "    3020000010, 3020003790, 3020005240, 3020008670, 3020009320, 3020024310,\n",
    "    4020000010, 4020006940, 4020015090, 4020024190, 4020034510, 4020050210, 4020050220, 4020050290, 4020050470,\n",
    "    5020000010, 5020015660, 5020037270, 5020049720, 5020082270, \n",
    "    6020000010, 6020006540, 6020008320, 6020014330, 6020017370, 6020021870, 6020029280,\n",
    "    7020000010, 7020014250, 7020021430, 7020024600, 7020038340, 7020046750, 7020047840, 7020065090,\n",
    "    8020000010, 8020008900, 8020010700, 8020020760, 8020022890, 8020032840, 8020044560,\n",
    "    9020000010\n",
    "]\n",
    "hylak_folder = '/WORK/Data/global_lake_area/lake_shps/HydroLAKES_updated_using_GLAKES/per_basin'\n",
    "hylak_filename_pattern = 'hylak_unbuffered_updated_{hybas_id}.shp'\n",
    "hylak_no_contained_save_folder = '/WORK/Data/global_lake_area/lake_shps/HydroLAKES_updated_using_GLAKES/per_basin_no_contained_new'\n",
    "if not os.path.exists(hylak_no_contained_save_folder):\n",
    "    os.makedirs(hylak_no_contained_save_folder)\n",
    "hylak_no_contained_save_filename_pattern = 'hylak_unbuffered_updated_no_contained_{hybas_id}.shp'\n",
    "\n",
    "from pandarallel import pandarallel\n",
    "print('Initializing pandarallel...')\n",
    "pandarallel.initialize(progress_bar=False, nb_workers=12, use_memory_fs = False)\n",
    "\n",
    "for hybas_id in hybas_id_list:\n",
    "    print(f'Processing {hybas_id}')\n",
    "    current_gdf = gpd.read_file(os.path.join(hylak_folder, hylak_filename_pattern.format(hybas_id=hybas_id)))\n",
    "    # Create spatial index for the GeoDataFrame\n",
    "    sindex = current_gdf.sindex\n",
    "    geometry_col_name = current_gdf.geometry.name\n",
    "    # List to hold indices of geometries to keep\n",
    "    keep_indices = []\n",
    "\n",
    "    # Load the GeoDataFrame\n",
    "    current_gdf = gpd.read_file(os.path.join(hylak_folder, hylak_filename_pattern.format(hybas_id=hybas_id)))\n",
    "\n",
    "    # Create spatial index for the GeoDataFrame\n",
    "    sindex = current_gdf.sindex\n",
    "    geometry_col_name = current_gdf.geometry.name\n",
    "\n",
    "    def check_containment(idx, row):\n",
    "        current_centroid = row[geometry_col_name].centroid\n",
    "        possible_matches_index = list(sindex.intersection(row[geometry_col_name].bounds))\n",
    "        possible_matches = current_gdf.iloc[possible_matches_index]\n",
    "\n",
    "        for other_idx, other in possible_matches.iterrows():\n",
    "            if idx != other_idx and row[geometry_col_name].within(other[geometry_col_name]):\n",
    "                return False\n",
    "            elif idx != other_idx and current_centroid.within(other[geometry_col_name]) and row['Hylak_id'] > other['Hylak_id']:\n",
    "                return False\n",
    "\n",
    "        return True\n",
    "\n",
    "    # Check containment in parallel\n",
    "    # Apply the containment check in parallel\n",
    "    keep_mask = current_gdf.parallel_apply(lambda row: check_containment(row.name, row), axis=1)\n",
    "\n",
    "    # Filter the GeoDataFrame to keep only non-contained geometries\n",
    "    gdf_filtered = current_gdf[keep_mask].reset_index(drop=True)\n",
    "\n",
    "\n",
    "    # Reset index of the resulting GeoDataFrame\n",
    "    gdf_filtered.reset_index(drop=True, inplace=True)\n",
    "    \n",
    "    gdf_filtered.to_file(os.path.join(hylak_no_contained_save_folder, hylak_no_contained_save_filename_pattern.format(hybas_id=hybas_id)))\n"
   ]
  },
  {
   "cell_type": "code",
   "execution_count": 2,
   "metadata": {},
   "outputs": [
    {
     "name": "stdout",
     "output_type": "stream",
     "text": [
      "Initializing pandarallel...\n",
      "INFO: Pandarallel will run on 12 workers.\n",
      "INFO: Pandarallel will use standard multiprocessing data transfer (pipe) to transfer data between the main process and workers.\n",
      "Processing /WORK/Data/global_lake_area/lake_shps/HydroLAKES_updated_using_GLAKES/per_basin_no_contained_new/hylak_unbuffered_updated_no_contained_1020000010.shp...\n",
      "Caculating buffer size for /WORK/Data/global_lake_area/lake_shps/HydroLAKES_updated_using_GLAKES/per_basin_no_contained_new/hylak_unbuffered_updated_no_contained_1020000010.shp...\n",
      "Simplifying /WORK/Data/global_lake_area/lake_shps/HydroLAKES_updated_using_GLAKES/per_basin_no_contained_new/hylak_unbuffered_updated_no_contained_1020000010.shp...\n",
      "Buffering /WORK/Data/global_lake_area/lake_shps/HydroLAKES_updated_using_GLAKES/per_basin_no_contained_new/hylak_unbuffered_updated_no_contained_1020000010.shp...\n"
     ]
    },
    {
     "name": "stderr",
     "output_type": "stream",
     "text": [
      "/tmp/ipykernel_61995/1773437933.py:83: UserWarning: Column names longer than 10 characters will be truncated when saved to ESRI Shapefile.\n",
      "  current_hylak_gdf.to_file(current_hylak_buffered_save_path)\n"
     ]
    },
    {
     "name": "stdout",
     "output_type": "stream",
     "text": [
      "Processing /WORK/Data/global_lake_area/lake_shps/HydroLAKES_updated_using_GLAKES/per_basin_no_contained_new/hylak_unbuffered_updated_no_contained_1020011530.shp...\n",
      "Caculating buffer size for /WORK/Data/global_lake_area/lake_shps/HydroLAKES_updated_using_GLAKES/per_basin_no_contained_new/hylak_unbuffered_updated_no_contained_1020011530.shp...\n",
      "Simplifying /WORK/Data/global_lake_area/lake_shps/HydroLAKES_updated_using_GLAKES/per_basin_no_contained_new/hylak_unbuffered_updated_no_contained_1020011530.shp...\n",
      "Buffering /WORK/Data/global_lake_area/lake_shps/HydroLAKES_updated_using_GLAKES/per_basin_no_contained_new/hylak_unbuffered_updated_no_contained_1020011530.shp...\n"
     ]
    },
    {
     "name": "stderr",
     "output_type": "stream",
     "text": [
      "/tmp/ipykernel_61995/1773437933.py:83: UserWarning: Column names longer than 10 characters will be truncated when saved to ESRI Shapefile.\n",
      "  current_hylak_gdf.to_file(current_hylak_buffered_save_path)\n"
     ]
    },
    {
     "name": "stdout",
     "output_type": "stream",
     "text": [
      "Processing /WORK/Data/global_lake_area/lake_shps/HydroLAKES_updated_using_GLAKES/per_basin_no_contained_new/hylak_unbuffered_updated_no_contained_1020018110.shp...\n",
      "Caculating buffer size for /WORK/Data/global_lake_area/lake_shps/HydroLAKES_updated_using_GLAKES/per_basin_no_contained_new/hylak_unbuffered_updated_no_contained_1020018110.shp...\n",
      "Simplifying /WORK/Data/global_lake_area/lake_shps/HydroLAKES_updated_using_GLAKES/per_basin_no_contained_new/hylak_unbuffered_updated_no_contained_1020018110.shp...\n",
      "Buffering /WORK/Data/global_lake_area/lake_shps/HydroLAKES_updated_using_GLAKES/per_basin_no_contained_new/hylak_unbuffered_updated_no_contained_1020018110.shp...\n"
     ]
    },
    {
     "name": "stderr",
     "output_type": "stream",
     "text": [
      "/tmp/ipykernel_61995/1773437933.py:83: UserWarning: Column names longer than 10 characters will be truncated when saved to ESRI Shapefile.\n",
      "  current_hylak_gdf.to_file(current_hylak_buffered_save_path)\n"
     ]
    },
    {
     "name": "stdout",
     "output_type": "stream",
     "text": [
      "Processing /WORK/Data/global_lake_area/lake_shps/HydroLAKES_updated_using_GLAKES/per_basin_no_contained_new/hylak_unbuffered_updated_no_contained_1020021940.shp...\n",
      "Caculating buffer size for /WORK/Data/global_lake_area/lake_shps/HydroLAKES_updated_using_GLAKES/per_basin_no_contained_new/hylak_unbuffered_updated_no_contained_1020021940.shp...\n",
      "Simplifying /WORK/Data/global_lake_area/lake_shps/HydroLAKES_updated_using_GLAKES/per_basin_no_contained_new/hylak_unbuffered_updated_no_contained_1020021940.shp...\n",
      "Buffering /WORK/Data/global_lake_area/lake_shps/HydroLAKES_updated_using_GLAKES/per_basin_no_contained_new/hylak_unbuffered_updated_no_contained_1020021940.shp...\n"
     ]
    },
    {
     "name": "stderr",
     "output_type": "stream",
     "text": [
      "/tmp/ipykernel_61995/1773437933.py:83: UserWarning: Column names longer than 10 characters will be truncated when saved to ESRI Shapefile.\n",
      "  current_hylak_gdf.to_file(current_hylak_buffered_save_path)\n"
     ]
    },
    {
     "name": "stdout",
     "output_type": "stream",
     "text": [
      "Processing /WORK/Data/global_lake_area/lake_shps/HydroLAKES_updated_using_GLAKES/per_basin_no_contained_new/hylak_unbuffered_updated_no_contained_1020027430.shp...\n",
      "Caculating buffer size for /WORK/Data/global_lake_area/lake_shps/HydroLAKES_updated_using_GLAKES/per_basin_no_contained_new/hylak_unbuffered_updated_no_contained_1020027430.shp...\n",
      "Simplifying /WORK/Data/global_lake_area/lake_shps/HydroLAKES_updated_using_GLAKES/per_basin_no_contained_new/hylak_unbuffered_updated_no_contained_1020027430.shp...\n",
      "Buffering /WORK/Data/global_lake_area/lake_shps/HydroLAKES_updated_using_GLAKES/per_basin_no_contained_new/hylak_unbuffered_updated_no_contained_1020027430.shp...\n"
     ]
    },
    {
     "name": "stderr",
     "output_type": "stream",
     "text": [
      "/tmp/ipykernel_61995/1773437933.py:83: UserWarning: Column names longer than 10 characters will be truncated when saved to ESRI Shapefile.\n",
      "  current_hylak_gdf.to_file(current_hylak_buffered_save_path)\n"
     ]
    },
    {
     "name": "stdout",
     "output_type": "stream",
     "text": [
      "Processing /WORK/Data/global_lake_area/lake_shps/HydroLAKES_updated_using_GLAKES/per_basin_no_contained_new/hylak_unbuffered_updated_no_contained_1020034170.shp...\n",
      "Caculating buffer size for /WORK/Data/global_lake_area/lake_shps/HydroLAKES_updated_using_GLAKES/per_basin_no_contained_new/hylak_unbuffered_updated_no_contained_1020034170.shp...\n",
      "Simplifying /WORK/Data/global_lake_area/lake_shps/HydroLAKES_updated_using_GLAKES/per_basin_no_contained_new/hylak_unbuffered_updated_no_contained_1020034170.shp...\n",
      "Buffering /WORK/Data/global_lake_area/lake_shps/HydroLAKES_updated_using_GLAKES/per_basin_no_contained_new/hylak_unbuffered_updated_no_contained_1020034170.shp...\n"
     ]
    },
    {
     "name": "stderr",
     "output_type": "stream",
     "text": [
      "/tmp/ipykernel_61995/1773437933.py:83: UserWarning: Column names longer than 10 characters will be truncated when saved to ESRI Shapefile.\n",
      "  current_hylak_gdf.to_file(current_hylak_buffered_save_path)\n"
     ]
    },
    {
     "name": "stdout",
     "output_type": "stream",
     "text": [
      "Processing /WORK/Data/global_lake_area/lake_shps/HydroLAKES_updated_using_GLAKES/per_basin_no_contained_new/hylak_unbuffered_updated_no_contained_1020035180.shp...\n",
      "Caculating buffer size for /WORK/Data/global_lake_area/lake_shps/HydroLAKES_updated_using_GLAKES/per_basin_no_contained_new/hylak_unbuffered_updated_no_contained_1020035180.shp...\n",
      "Simplifying /WORK/Data/global_lake_area/lake_shps/HydroLAKES_updated_using_GLAKES/per_basin_no_contained_new/hylak_unbuffered_updated_no_contained_1020035180.shp...\n",
      "Buffering /WORK/Data/global_lake_area/lake_shps/HydroLAKES_updated_using_GLAKES/per_basin_no_contained_new/hylak_unbuffered_updated_no_contained_1020035180.shp...\n"
     ]
    },
    {
     "name": "stderr",
     "output_type": "stream",
     "text": [
      "/tmp/ipykernel_61995/1773437933.py:83: UserWarning: Column names longer than 10 characters will be truncated when saved to ESRI Shapefile.\n",
      "  current_hylak_gdf.to_file(current_hylak_buffered_save_path)\n"
     ]
    },
    {
     "name": "stdout",
     "output_type": "stream",
     "text": [
      "Processing /WORK/Data/global_lake_area/lake_shps/HydroLAKES_updated_using_GLAKES/per_basin_no_contained_new/hylak_unbuffered_updated_no_contained_1020040190.shp...\n",
      "Caculating buffer size for /WORK/Data/global_lake_area/lake_shps/HydroLAKES_updated_using_GLAKES/per_basin_no_contained_new/hylak_unbuffered_updated_no_contained_1020040190.shp...\n",
      "Simplifying /WORK/Data/global_lake_area/lake_shps/HydroLAKES_updated_using_GLAKES/per_basin_no_contained_new/hylak_unbuffered_updated_no_contained_1020040190.shp...\n",
      "Buffering /WORK/Data/global_lake_area/lake_shps/HydroLAKES_updated_using_GLAKES/per_basin_no_contained_new/hylak_unbuffered_updated_no_contained_1020040190.shp...\n"
     ]
    },
    {
     "name": "stderr",
     "output_type": "stream",
     "text": [
      "/tmp/ipykernel_61995/1773437933.py:83: UserWarning: Column names longer than 10 characters will be truncated when saved to ESRI Shapefile.\n",
      "  current_hylak_gdf.to_file(current_hylak_buffered_save_path)\n"
     ]
    },
    {
     "name": "stdout",
     "output_type": "stream",
     "text": [
      "Processing /WORK/Data/global_lake_area/lake_shps/HydroLAKES_updated_using_GLAKES/per_basin_no_contained_new/hylak_unbuffered_updated_no_contained_2020000010.shp...\n",
      "Caculating buffer size for /WORK/Data/global_lake_area/lake_shps/HydroLAKES_updated_using_GLAKES/per_basin_no_contained_new/hylak_unbuffered_updated_no_contained_2020000010.shp...\n",
      "Simplifying /WORK/Data/global_lake_area/lake_shps/HydroLAKES_updated_using_GLAKES/per_basin_no_contained_new/hylak_unbuffered_updated_no_contained_2020000010.shp...\n",
      "Buffering /WORK/Data/global_lake_area/lake_shps/HydroLAKES_updated_using_GLAKES/per_basin_no_contained_new/hylak_unbuffered_updated_no_contained_2020000010.shp...\n"
     ]
    },
    {
     "name": "stderr",
     "output_type": "stream",
     "text": [
      "/tmp/ipykernel_61995/1773437933.py:83: UserWarning: Column names longer than 10 characters will be truncated when saved to ESRI Shapefile.\n",
      "  current_hylak_gdf.to_file(current_hylak_buffered_save_path)\n"
     ]
    },
    {
     "name": "stdout",
     "output_type": "stream",
     "text": [
      "Processing /WORK/Data/global_lake_area/lake_shps/HydroLAKES_updated_using_GLAKES/per_basin_no_contained_new/hylak_unbuffered_updated_no_contained_2020003440.shp...\n",
      "Caculating buffer size for /WORK/Data/global_lake_area/lake_shps/HydroLAKES_updated_using_GLAKES/per_basin_no_contained_new/hylak_unbuffered_updated_no_contained_2020003440.shp...\n",
      "Simplifying /WORK/Data/global_lake_area/lake_shps/HydroLAKES_updated_using_GLAKES/per_basin_no_contained_new/hylak_unbuffered_updated_no_contained_2020003440.shp...\n",
      "Buffering /WORK/Data/global_lake_area/lake_shps/HydroLAKES_updated_using_GLAKES/per_basin_no_contained_new/hylak_unbuffered_updated_no_contained_2020003440.shp...\n"
     ]
    },
    {
     "name": "stderr",
     "output_type": "stream",
     "text": [
      "/tmp/ipykernel_61995/1773437933.py:83: UserWarning: Column names longer than 10 characters will be truncated when saved to ESRI Shapefile.\n",
      "  current_hylak_gdf.to_file(current_hylak_buffered_save_path)\n"
     ]
    },
    {
     "name": "stdout",
     "output_type": "stream",
     "text": [
      "Processing /WORK/Data/global_lake_area/lake_shps/HydroLAKES_updated_using_GLAKES/per_basin_no_contained_new/hylak_unbuffered_updated_no_contained_2020018240.shp...\n",
      "Caculating buffer size for /WORK/Data/global_lake_area/lake_shps/HydroLAKES_updated_using_GLAKES/per_basin_no_contained_new/hylak_unbuffered_updated_no_contained_2020018240.shp...\n",
      "Simplifying /WORK/Data/global_lake_area/lake_shps/HydroLAKES_updated_using_GLAKES/per_basin_no_contained_new/hylak_unbuffered_updated_no_contained_2020018240.shp...\n",
      "Buffering /WORK/Data/global_lake_area/lake_shps/HydroLAKES_updated_using_GLAKES/per_basin_no_contained_new/hylak_unbuffered_updated_no_contained_2020018240.shp...\n"
     ]
    },
    {
     "name": "stderr",
     "output_type": "stream",
     "text": [
      "/tmp/ipykernel_61995/1773437933.py:83: UserWarning: Column names longer than 10 characters will be truncated when saved to ESRI Shapefile.\n",
      "  current_hylak_gdf.to_file(current_hylak_buffered_save_path)\n"
     ]
    },
    {
     "name": "stdout",
     "output_type": "stream",
     "text": [
      "Processing /WORK/Data/global_lake_area/lake_shps/HydroLAKES_updated_using_GLAKES/per_basin_no_contained_new/hylak_unbuffered_updated_no_contained_2020024230.shp...\n",
      "Caculating buffer size for /WORK/Data/global_lake_area/lake_shps/HydroLAKES_updated_using_GLAKES/per_basin_no_contained_new/hylak_unbuffered_updated_no_contained_2020024230.shp...\n",
      "Simplifying /WORK/Data/global_lake_area/lake_shps/HydroLAKES_updated_using_GLAKES/per_basin_no_contained_new/hylak_unbuffered_updated_no_contained_2020024230.shp...\n",
      "Buffering /WORK/Data/global_lake_area/lake_shps/HydroLAKES_updated_using_GLAKES/per_basin_no_contained_new/hylak_unbuffered_updated_no_contained_2020024230.shp...\n"
     ]
    },
    {
     "name": "stderr",
     "output_type": "stream",
     "text": [
      "/tmp/ipykernel_61995/1773437933.py:83: UserWarning: Column names longer than 10 characters will be truncated when saved to ESRI Shapefile.\n",
      "  current_hylak_gdf.to_file(current_hylak_buffered_save_path)\n"
     ]
    },
    {
     "name": "stdout",
     "output_type": "stream",
     "text": [
      "Processing /WORK/Data/global_lake_area/lake_shps/HydroLAKES_updated_using_GLAKES/per_basin_no_contained_new/hylak_unbuffered_updated_no_contained_2020033490.shp...\n",
      "Caculating buffer size for /WORK/Data/global_lake_area/lake_shps/HydroLAKES_updated_using_GLAKES/per_basin_no_contained_new/hylak_unbuffered_updated_no_contained_2020033490.shp...\n",
      "Simplifying /WORK/Data/global_lake_area/lake_shps/HydroLAKES_updated_using_GLAKES/per_basin_no_contained_new/hylak_unbuffered_updated_no_contained_2020033490.shp...\n",
      "Buffering /WORK/Data/global_lake_area/lake_shps/HydroLAKES_updated_using_GLAKES/per_basin_no_contained_new/hylak_unbuffered_updated_no_contained_2020033490.shp...\n"
     ]
    },
    {
     "name": "stderr",
     "output_type": "stream",
     "text": [
      "/tmp/ipykernel_61995/1773437933.py:83: UserWarning: Column names longer than 10 characters will be truncated when saved to ESRI Shapefile.\n",
      "  current_hylak_gdf.to_file(current_hylak_buffered_save_path)\n"
     ]
    },
    {
     "name": "stdout",
     "output_type": "stream",
     "text": [
      "Processing /WORK/Data/global_lake_area/lake_shps/HydroLAKES_updated_using_GLAKES/per_basin_no_contained_new/hylak_unbuffered_updated_no_contained_2020041390.shp...\n",
      "Caculating buffer size for /WORK/Data/global_lake_area/lake_shps/HydroLAKES_updated_using_GLAKES/per_basin_no_contained_new/hylak_unbuffered_updated_no_contained_2020041390.shp...\n",
      "Simplifying /WORK/Data/global_lake_area/lake_shps/HydroLAKES_updated_using_GLAKES/per_basin_no_contained_new/hylak_unbuffered_updated_no_contained_2020041390.shp...\n",
      "Buffering /WORK/Data/global_lake_area/lake_shps/HydroLAKES_updated_using_GLAKES/per_basin_no_contained_new/hylak_unbuffered_updated_no_contained_2020041390.shp...\n"
     ]
    },
    {
     "name": "stderr",
     "output_type": "stream",
     "text": [
      "/tmp/ipykernel_61995/1773437933.py:83: UserWarning: Column names longer than 10 characters will be truncated when saved to ESRI Shapefile.\n",
      "  current_hylak_gdf.to_file(current_hylak_buffered_save_path)\n"
     ]
    },
    {
     "name": "stdout",
     "output_type": "stream",
     "text": [
      "Processing /WORK/Data/global_lake_area/lake_shps/HydroLAKES_updated_using_GLAKES/per_basin_no_contained_new/hylak_unbuffered_updated_no_contained_2020057170.shp...\n",
      "Caculating buffer size for /WORK/Data/global_lake_area/lake_shps/HydroLAKES_updated_using_GLAKES/per_basin_no_contained_new/hylak_unbuffered_updated_no_contained_2020057170.shp...\n",
      "Simplifying /WORK/Data/global_lake_area/lake_shps/HydroLAKES_updated_using_GLAKES/per_basin_no_contained_new/hylak_unbuffered_updated_no_contained_2020057170.shp...\n",
      "Buffering /WORK/Data/global_lake_area/lake_shps/HydroLAKES_updated_using_GLAKES/per_basin_no_contained_new/hylak_unbuffered_updated_no_contained_2020057170.shp...\n"
     ]
    },
    {
     "name": "stderr",
     "output_type": "stream",
     "text": [
      "/tmp/ipykernel_61995/1773437933.py:83: UserWarning: Column names longer than 10 characters will be truncated when saved to ESRI Shapefile.\n",
      "  current_hylak_gdf.to_file(current_hylak_buffered_save_path)\n"
     ]
    },
    {
     "name": "stdout",
     "output_type": "stream",
     "text": [
      "Processing /WORK/Data/global_lake_area/lake_shps/HydroLAKES_updated_using_GLAKES/per_basin_no_contained_new/hylak_unbuffered_updated_no_contained_2020065840.shp...\n",
      "Caculating buffer size for /WORK/Data/global_lake_area/lake_shps/HydroLAKES_updated_using_GLAKES/per_basin_no_contained_new/hylak_unbuffered_updated_no_contained_2020065840.shp...\n",
      "Simplifying /WORK/Data/global_lake_area/lake_shps/HydroLAKES_updated_using_GLAKES/per_basin_no_contained_new/hylak_unbuffered_updated_no_contained_2020065840.shp...\n",
      "Buffering /WORK/Data/global_lake_area/lake_shps/HydroLAKES_updated_using_GLAKES/per_basin_no_contained_new/hylak_unbuffered_updated_no_contained_2020065840.shp...\n"
     ]
    },
    {
     "name": "stderr",
     "output_type": "stream",
     "text": [
      "/tmp/ipykernel_61995/1773437933.py:83: UserWarning: Column names longer than 10 characters will be truncated when saved to ESRI Shapefile.\n",
      "  current_hylak_gdf.to_file(current_hylak_buffered_save_path)\n"
     ]
    },
    {
     "name": "stdout",
     "output_type": "stream",
     "text": [
      "Processing /WORK/Data/global_lake_area/lake_shps/HydroLAKES_updated_using_GLAKES/per_basin_no_contained_new/hylak_unbuffered_updated_no_contained_2020071190.shp...\n",
      "Caculating buffer size for /WORK/Data/global_lake_area/lake_shps/HydroLAKES_updated_using_GLAKES/per_basin_no_contained_new/hylak_unbuffered_updated_no_contained_2020071190.shp...\n",
      "Simplifying /WORK/Data/global_lake_area/lake_shps/HydroLAKES_updated_using_GLAKES/per_basin_no_contained_new/hylak_unbuffered_updated_no_contained_2020071190.shp...\n",
      "Buffering /WORK/Data/global_lake_area/lake_shps/HydroLAKES_updated_using_GLAKES/per_basin_no_contained_new/hylak_unbuffered_updated_no_contained_2020071190.shp...\n"
     ]
    },
    {
     "name": "stderr",
     "output_type": "stream",
     "text": [
      "/tmp/ipykernel_61995/1773437933.py:83: UserWarning: Column names longer than 10 characters will be truncated when saved to ESRI Shapefile.\n",
      "  current_hylak_gdf.to_file(current_hylak_buffered_save_path)\n"
     ]
    },
    {
     "name": "stdout",
     "output_type": "stream",
     "text": [
      "Processing /WORK/Data/global_lake_area/lake_shps/HydroLAKES_updated_using_GLAKES/per_basin_no_contained_new/hylak_unbuffered_updated_no_contained_3020000010.shp...\n",
      "Caculating buffer size for /WORK/Data/global_lake_area/lake_shps/HydroLAKES_updated_using_GLAKES/per_basin_no_contained_new/hylak_unbuffered_updated_no_contained_3020000010.shp...\n",
      "Simplifying /WORK/Data/global_lake_area/lake_shps/HydroLAKES_updated_using_GLAKES/per_basin_no_contained_new/hylak_unbuffered_updated_no_contained_3020000010.shp...\n",
      "Buffering /WORK/Data/global_lake_area/lake_shps/HydroLAKES_updated_using_GLAKES/per_basin_no_contained_new/hylak_unbuffered_updated_no_contained_3020000010.shp...\n"
     ]
    },
    {
     "name": "stderr",
     "output_type": "stream",
     "text": [
      "/tmp/ipykernel_61995/1773437933.py:83: UserWarning: Column names longer than 10 characters will be truncated when saved to ESRI Shapefile.\n",
      "  current_hylak_gdf.to_file(current_hylak_buffered_save_path)\n"
     ]
    },
    {
     "name": "stdout",
     "output_type": "stream",
     "text": [
      "Processing /WORK/Data/global_lake_area/lake_shps/HydroLAKES_updated_using_GLAKES/per_basin_no_contained_new/hylak_unbuffered_updated_no_contained_3020003790.shp...\n",
      "Caculating buffer size for /WORK/Data/global_lake_area/lake_shps/HydroLAKES_updated_using_GLAKES/per_basin_no_contained_new/hylak_unbuffered_updated_no_contained_3020003790.shp...\n",
      "Simplifying /WORK/Data/global_lake_area/lake_shps/HydroLAKES_updated_using_GLAKES/per_basin_no_contained_new/hylak_unbuffered_updated_no_contained_3020003790.shp...\n",
      "Buffering /WORK/Data/global_lake_area/lake_shps/HydroLAKES_updated_using_GLAKES/per_basin_no_contained_new/hylak_unbuffered_updated_no_contained_3020003790.shp...\n"
     ]
    },
    {
     "name": "stderr",
     "output_type": "stream",
     "text": [
      "/tmp/ipykernel_61995/1773437933.py:83: UserWarning: Column names longer than 10 characters will be truncated when saved to ESRI Shapefile.\n",
      "  current_hylak_gdf.to_file(current_hylak_buffered_save_path)\n"
     ]
    },
    {
     "name": "stdout",
     "output_type": "stream",
     "text": [
      "Processing /WORK/Data/global_lake_area/lake_shps/HydroLAKES_updated_using_GLAKES/per_basin_no_contained_new/hylak_unbuffered_updated_no_contained_3020005240.shp...\n",
      "Caculating buffer size for /WORK/Data/global_lake_area/lake_shps/HydroLAKES_updated_using_GLAKES/per_basin_no_contained_new/hylak_unbuffered_updated_no_contained_3020005240.shp...\n",
      "Simplifying /WORK/Data/global_lake_area/lake_shps/HydroLAKES_updated_using_GLAKES/per_basin_no_contained_new/hylak_unbuffered_updated_no_contained_3020005240.shp...\n",
      "Buffering /WORK/Data/global_lake_area/lake_shps/HydroLAKES_updated_using_GLAKES/per_basin_no_contained_new/hylak_unbuffered_updated_no_contained_3020005240.shp...\n"
     ]
    },
    {
     "name": "stderr",
     "output_type": "stream",
     "text": [
      "/tmp/ipykernel_61995/1773437933.py:83: UserWarning: Column names longer than 10 characters will be truncated when saved to ESRI Shapefile.\n",
      "  current_hylak_gdf.to_file(current_hylak_buffered_save_path)\n"
     ]
    },
    {
     "name": "stdout",
     "output_type": "stream",
     "text": [
      "Processing /WORK/Data/global_lake_area/lake_shps/HydroLAKES_updated_using_GLAKES/per_basin_no_contained_new/hylak_unbuffered_updated_no_contained_3020008670.shp...\n",
      "Caculating buffer size for /WORK/Data/global_lake_area/lake_shps/HydroLAKES_updated_using_GLAKES/per_basin_no_contained_new/hylak_unbuffered_updated_no_contained_3020008670.shp...\n",
      "Simplifying /WORK/Data/global_lake_area/lake_shps/HydroLAKES_updated_using_GLAKES/per_basin_no_contained_new/hylak_unbuffered_updated_no_contained_3020008670.shp...\n",
      "Buffering /WORK/Data/global_lake_area/lake_shps/HydroLAKES_updated_using_GLAKES/per_basin_no_contained_new/hylak_unbuffered_updated_no_contained_3020008670.shp...\n"
     ]
    },
    {
     "name": "stderr",
     "output_type": "stream",
     "text": [
      "/tmp/ipykernel_61995/1773437933.py:83: UserWarning: Column names longer than 10 characters will be truncated when saved to ESRI Shapefile.\n",
      "  current_hylak_gdf.to_file(current_hylak_buffered_save_path)\n"
     ]
    },
    {
     "name": "stdout",
     "output_type": "stream",
     "text": [
      "Processing /WORK/Data/global_lake_area/lake_shps/HydroLAKES_updated_using_GLAKES/per_basin_no_contained_new/hylak_unbuffered_updated_no_contained_3020009320.shp...\n",
      "Caculating buffer size for /WORK/Data/global_lake_area/lake_shps/HydroLAKES_updated_using_GLAKES/per_basin_no_contained_new/hylak_unbuffered_updated_no_contained_3020009320.shp...\n",
      "Simplifying /WORK/Data/global_lake_area/lake_shps/HydroLAKES_updated_using_GLAKES/per_basin_no_contained_new/hylak_unbuffered_updated_no_contained_3020009320.shp...\n",
      "Buffering /WORK/Data/global_lake_area/lake_shps/HydroLAKES_updated_using_GLAKES/per_basin_no_contained_new/hylak_unbuffered_updated_no_contained_3020009320.shp...\n"
     ]
    },
    {
     "name": "stderr",
     "output_type": "stream",
     "text": [
      "/tmp/ipykernel_61995/1773437933.py:83: UserWarning: Column names longer than 10 characters will be truncated when saved to ESRI Shapefile.\n",
      "  current_hylak_gdf.to_file(current_hylak_buffered_save_path)\n"
     ]
    },
    {
     "name": "stdout",
     "output_type": "stream",
     "text": [
      "Processing /WORK/Data/global_lake_area/lake_shps/HydroLAKES_updated_using_GLAKES/per_basin_no_contained_new/hylak_unbuffered_updated_no_contained_3020024310.shp...\n",
      "Caculating buffer size for /WORK/Data/global_lake_area/lake_shps/HydroLAKES_updated_using_GLAKES/per_basin_no_contained_new/hylak_unbuffered_updated_no_contained_3020024310.shp...\n",
      "Simplifying /WORK/Data/global_lake_area/lake_shps/HydroLAKES_updated_using_GLAKES/per_basin_no_contained_new/hylak_unbuffered_updated_no_contained_3020024310.shp...\n",
      "Buffering /WORK/Data/global_lake_area/lake_shps/HydroLAKES_updated_using_GLAKES/per_basin_no_contained_new/hylak_unbuffered_updated_no_contained_3020024310.shp...\n"
     ]
    },
    {
     "name": "stderr",
     "output_type": "stream",
     "text": [
      "/tmp/ipykernel_61995/1773437933.py:83: UserWarning: Column names longer than 10 characters will be truncated when saved to ESRI Shapefile.\n",
      "  current_hylak_gdf.to_file(current_hylak_buffered_save_path)\n"
     ]
    },
    {
     "name": "stdout",
     "output_type": "stream",
     "text": [
      "Processing /WORK/Data/global_lake_area/lake_shps/HydroLAKES_updated_using_GLAKES/per_basin_no_contained_new/hylak_unbuffered_updated_no_contained_4020000010.shp...\n",
      "Caculating buffer size for /WORK/Data/global_lake_area/lake_shps/HydroLAKES_updated_using_GLAKES/per_basin_no_contained_new/hylak_unbuffered_updated_no_contained_4020000010.shp...\n",
      "Simplifying /WORK/Data/global_lake_area/lake_shps/HydroLAKES_updated_using_GLAKES/per_basin_no_contained_new/hylak_unbuffered_updated_no_contained_4020000010.shp...\n",
      "Buffering /WORK/Data/global_lake_area/lake_shps/HydroLAKES_updated_using_GLAKES/per_basin_no_contained_new/hylak_unbuffered_updated_no_contained_4020000010.shp...\n"
     ]
    },
    {
     "name": "stderr",
     "output_type": "stream",
     "text": [
      "/tmp/ipykernel_61995/1773437933.py:83: UserWarning: Column names longer than 10 characters will be truncated when saved to ESRI Shapefile.\n",
      "  current_hylak_gdf.to_file(current_hylak_buffered_save_path)\n"
     ]
    },
    {
     "name": "stdout",
     "output_type": "stream",
     "text": [
      "Processing /WORK/Data/global_lake_area/lake_shps/HydroLAKES_updated_using_GLAKES/per_basin_no_contained_new/hylak_unbuffered_updated_no_contained_4020006940.shp...\n",
      "Caculating buffer size for /WORK/Data/global_lake_area/lake_shps/HydroLAKES_updated_using_GLAKES/per_basin_no_contained_new/hylak_unbuffered_updated_no_contained_4020006940.shp...\n",
      "Simplifying /WORK/Data/global_lake_area/lake_shps/HydroLAKES_updated_using_GLAKES/per_basin_no_contained_new/hylak_unbuffered_updated_no_contained_4020006940.shp...\n",
      "Buffering /WORK/Data/global_lake_area/lake_shps/HydroLAKES_updated_using_GLAKES/per_basin_no_contained_new/hylak_unbuffered_updated_no_contained_4020006940.shp...\n"
     ]
    },
    {
     "name": "stderr",
     "output_type": "stream",
     "text": [
      "/tmp/ipykernel_61995/1773437933.py:83: UserWarning: Column names longer than 10 characters will be truncated when saved to ESRI Shapefile.\n",
      "  current_hylak_gdf.to_file(current_hylak_buffered_save_path)\n"
     ]
    },
    {
     "name": "stdout",
     "output_type": "stream",
     "text": [
      "Processing /WORK/Data/global_lake_area/lake_shps/HydroLAKES_updated_using_GLAKES/per_basin_no_contained_new/hylak_unbuffered_updated_no_contained_4020015090.shp...\n",
      "Caculating buffer size for /WORK/Data/global_lake_area/lake_shps/HydroLAKES_updated_using_GLAKES/per_basin_no_contained_new/hylak_unbuffered_updated_no_contained_4020015090.shp...\n",
      "Simplifying /WORK/Data/global_lake_area/lake_shps/HydroLAKES_updated_using_GLAKES/per_basin_no_contained_new/hylak_unbuffered_updated_no_contained_4020015090.shp...\n",
      "Buffering /WORK/Data/global_lake_area/lake_shps/HydroLAKES_updated_using_GLAKES/per_basin_no_contained_new/hylak_unbuffered_updated_no_contained_4020015090.shp...\n"
     ]
    },
    {
     "name": "stderr",
     "output_type": "stream",
     "text": [
      "/tmp/ipykernel_61995/1773437933.py:83: UserWarning: Column names longer than 10 characters will be truncated when saved to ESRI Shapefile.\n",
      "  current_hylak_gdf.to_file(current_hylak_buffered_save_path)\n"
     ]
    },
    {
     "name": "stdout",
     "output_type": "stream",
     "text": [
      "Processing /WORK/Data/global_lake_area/lake_shps/HydroLAKES_updated_using_GLAKES/per_basin_no_contained_new/hylak_unbuffered_updated_no_contained_4020024190.shp...\n",
      "Caculating buffer size for /WORK/Data/global_lake_area/lake_shps/HydroLAKES_updated_using_GLAKES/per_basin_no_contained_new/hylak_unbuffered_updated_no_contained_4020024190.shp...\n",
      "Simplifying /WORK/Data/global_lake_area/lake_shps/HydroLAKES_updated_using_GLAKES/per_basin_no_contained_new/hylak_unbuffered_updated_no_contained_4020024190.shp...\n",
      "Buffering /WORK/Data/global_lake_area/lake_shps/HydroLAKES_updated_using_GLAKES/per_basin_no_contained_new/hylak_unbuffered_updated_no_contained_4020024190.shp...\n"
     ]
    },
    {
     "name": "stderr",
     "output_type": "stream",
     "text": [
      "/tmp/ipykernel_61995/1773437933.py:83: UserWarning: Column names longer than 10 characters will be truncated when saved to ESRI Shapefile.\n",
      "  current_hylak_gdf.to_file(current_hylak_buffered_save_path)\n"
     ]
    },
    {
     "name": "stdout",
     "output_type": "stream",
     "text": [
      "Processing /WORK/Data/global_lake_area/lake_shps/HydroLAKES_updated_using_GLAKES/per_basin_no_contained_new/hylak_unbuffered_updated_no_contained_4020034510.shp...\n",
      "Caculating buffer size for /WORK/Data/global_lake_area/lake_shps/HydroLAKES_updated_using_GLAKES/per_basin_no_contained_new/hylak_unbuffered_updated_no_contained_4020034510.shp...\n",
      "Simplifying /WORK/Data/global_lake_area/lake_shps/HydroLAKES_updated_using_GLAKES/per_basin_no_contained_new/hylak_unbuffered_updated_no_contained_4020034510.shp...\n",
      "Buffering /WORK/Data/global_lake_area/lake_shps/HydroLAKES_updated_using_GLAKES/per_basin_no_contained_new/hylak_unbuffered_updated_no_contained_4020034510.shp...\n"
     ]
    },
    {
     "name": "stderr",
     "output_type": "stream",
     "text": [
      "/tmp/ipykernel_61995/1773437933.py:83: UserWarning: Column names longer than 10 characters will be truncated when saved to ESRI Shapefile.\n",
      "  current_hylak_gdf.to_file(current_hylak_buffered_save_path)\n"
     ]
    },
    {
     "name": "stdout",
     "output_type": "stream",
     "text": [
      "Processing /WORK/Data/global_lake_area/lake_shps/HydroLAKES_updated_using_GLAKES/per_basin_no_contained_new/hylak_unbuffered_updated_no_contained_4020050210.shp...\n",
      "Caculating buffer size for /WORK/Data/global_lake_area/lake_shps/HydroLAKES_updated_using_GLAKES/per_basin_no_contained_new/hylak_unbuffered_updated_no_contained_4020050210.shp...\n",
      "Simplifying /WORK/Data/global_lake_area/lake_shps/HydroLAKES_updated_using_GLAKES/per_basin_no_contained_new/hylak_unbuffered_updated_no_contained_4020050210.shp...\n",
      "Buffering /WORK/Data/global_lake_area/lake_shps/HydroLAKES_updated_using_GLAKES/per_basin_no_contained_new/hylak_unbuffered_updated_no_contained_4020050210.shp...\n"
     ]
    },
    {
     "name": "stderr",
     "output_type": "stream",
     "text": [
      "/tmp/ipykernel_61995/1773437933.py:83: UserWarning: Column names longer than 10 characters will be truncated when saved to ESRI Shapefile.\n",
      "  current_hylak_gdf.to_file(current_hylak_buffered_save_path)\n"
     ]
    },
    {
     "name": "stdout",
     "output_type": "stream",
     "text": [
      "Processing /WORK/Data/global_lake_area/lake_shps/HydroLAKES_updated_using_GLAKES/per_basin_no_contained_new/hylak_unbuffered_updated_no_contained_4020050220.shp...\n",
      "Caculating buffer size for /WORK/Data/global_lake_area/lake_shps/HydroLAKES_updated_using_GLAKES/per_basin_no_contained_new/hylak_unbuffered_updated_no_contained_4020050220.shp...\n",
      "Simplifying /WORK/Data/global_lake_area/lake_shps/HydroLAKES_updated_using_GLAKES/per_basin_no_contained_new/hylak_unbuffered_updated_no_contained_4020050220.shp...\n",
      "Buffering /WORK/Data/global_lake_area/lake_shps/HydroLAKES_updated_using_GLAKES/per_basin_no_contained_new/hylak_unbuffered_updated_no_contained_4020050220.shp...\n"
     ]
    },
    {
     "name": "stderr",
     "output_type": "stream",
     "text": [
      "/tmp/ipykernel_61995/1773437933.py:83: UserWarning: Column names longer than 10 characters will be truncated when saved to ESRI Shapefile.\n",
      "  current_hylak_gdf.to_file(current_hylak_buffered_save_path)\n"
     ]
    },
    {
     "name": "stdout",
     "output_type": "stream",
     "text": [
      "Processing /WORK/Data/global_lake_area/lake_shps/HydroLAKES_updated_using_GLAKES/per_basin_no_contained_new/hylak_unbuffered_updated_no_contained_4020050290.shp...\n",
      "Caculating buffer size for /WORK/Data/global_lake_area/lake_shps/HydroLAKES_updated_using_GLAKES/per_basin_no_contained_new/hylak_unbuffered_updated_no_contained_4020050290.shp...\n",
      "Simplifying /WORK/Data/global_lake_area/lake_shps/HydroLAKES_updated_using_GLAKES/per_basin_no_contained_new/hylak_unbuffered_updated_no_contained_4020050290.shp...\n",
      "Buffering /WORK/Data/global_lake_area/lake_shps/HydroLAKES_updated_using_GLAKES/per_basin_no_contained_new/hylak_unbuffered_updated_no_contained_4020050290.shp...\n"
     ]
    },
    {
     "name": "stderr",
     "output_type": "stream",
     "text": [
      "/tmp/ipykernel_61995/1773437933.py:83: UserWarning: Column names longer than 10 characters will be truncated when saved to ESRI Shapefile.\n",
      "  current_hylak_gdf.to_file(current_hylak_buffered_save_path)\n"
     ]
    },
    {
     "name": "stdout",
     "output_type": "stream",
     "text": [
      "Processing /WORK/Data/global_lake_area/lake_shps/HydroLAKES_updated_using_GLAKES/per_basin_no_contained_new/hylak_unbuffered_updated_no_contained_4020050470.shp...\n",
      "Caculating buffer size for /WORK/Data/global_lake_area/lake_shps/HydroLAKES_updated_using_GLAKES/per_basin_no_contained_new/hylak_unbuffered_updated_no_contained_4020050470.shp...\n",
      "Simplifying /WORK/Data/global_lake_area/lake_shps/HydroLAKES_updated_using_GLAKES/per_basin_no_contained_new/hylak_unbuffered_updated_no_contained_4020050470.shp...\n",
      "Buffering /WORK/Data/global_lake_area/lake_shps/HydroLAKES_updated_using_GLAKES/per_basin_no_contained_new/hylak_unbuffered_updated_no_contained_4020050470.shp...\n"
     ]
    },
    {
     "name": "stderr",
     "output_type": "stream",
     "text": [
      "/tmp/ipykernel_61995/1773437933.py:83: UserWarning: Column names longer than 10 characters will be truncated when saved to ESRI Shapefile.\n",
      "  current_hylak_gdf.to_file(current_hylak_buffered_save_path)\n"
     ]
    },
    {
     "name": "stdout",
     "output_type": "stream",
     "text": [
      "Processing /WORK/Data/global_lake_area/lake_shps/HydroLAKES_updated_using_GLAKES/per_basin_no_contained_new/hylak_unbuffered_updated_no_contained_5020000010.shp...\n",
      "Caculating buffer size for /WORK/Data/global_lake_area/lake_shps/HydroLAKES_updated_using_GLAKES/per_basin_no_contained_new/hylak_unbuffered_updated_no_contained_5020000010.shp...\n",
      "Simplifying /WORK/Data/global_lake_area/lake_shps/HydroLAKES_updated_using_GLAKES/per_basin_no_contained_new/hylak_unbuffered_updated_no_contained_5020000010.shp...\n",
      "Buffering /WORK/Data/global_lake_area/lake_shps/HydroLAKES_updated_using_GLAKES/per_basin_no_contained_new/hylak_unbuffered_updated_no_contained_5020000010.shp...\n"
     ]
    },
    {
     "name": "stderr",
     "output_type": "stream",
     "text": [
      "/tmp/ipykernel_61995/1773437933.py:83: UserWarning: Column names longer than 10 characters will be truncated when saved to ESRI Shapefile.\n",
      "  current_hylak_gdf.to_file(current_hylak_buffered_save_path)\n"
     ]
    },
    {
     "name": "stdout",
     "output_type": "stream",
     "text": [
      "Processing /WORK/Data/global_lake_area/lake_shps/HydroLAKES_updated_using_GLAKES/per_basin_no_contained_new/hylak_unbuffered_updated_no_contained_5020015660.shp...\n",
      "Caculating buffer size for /WORK/Data/global_lake_area/lake_shps/HydroLAKES_updated_using_GLAKES/per_basin_no_contained_new/hylak_unbuffered_updated_no_contained_5020015660.shp...\n",
      "Simplifying /WORK/Data/global_lake_area/lake_shps/HydroLAKES_updated_using_GLAKES/per_basin_no_contained_new/hylak_unbuffered_updated_no_contained_5020015660.shp...\n",
      "Buffering /WORK/Data/global_lake_area/lake_shps/HydroLAKES_updated_using_GLAKES/per_basin_no_contained_new/hylak_unbuffered_updated_no_contained_5020015660.shp...\n"
     ]
    },
    {
     "name": "stderr",
     "output_type": "stream",
     "text": [
      "/tmp/ipykernel_61995/1773437933.py:83: UserWarning: Column names longer than 10 characters will be truncated when saved to ESRI Shapefile.\n",
      "  current_hylak_gdf.to_file(current_hylak_buffered_save_path)\n"
     ]
    },
    {
     "name": "stdout",
     "output_type": "stream",
     "text": [
      "Processing /WORK/Data/global_lake_area/lake_shps/HydroLAKES_updated_using_GLAKES/per_basin_no_contained_new/hylak_unbuffered_updated_no_contained_5020037270.shp...\n",
      "Caculating buffer size for /WORK/Data/global_lake_area/lake_shps/HydroLAKES_updated_using_GLAKES/per_basin_no_contained_new/hylak_unbuffered_updated_no_contained_5020037270.shp...\n",
      "Simplifying /WORK/Data/global_lake_area/lake_shps/HydroLAKES_updated_using_GLAKES/per_basin_no_contained_new/hylak_unbuffered_updated_no_contained_5020037270.shp...\n",
      "Buffering /WORK/Data/global_lake_area/lake_shps/HydroLAKES_updated_using_GLAKES/per_basin_no_contained_new/hylak_unbuffered_updated_no_contained_5020037270.shp...\n"
     ]
    },
    {
     "name": "stderr",
     "output_type": "stream",
     "text": [
      "/tmp/ipykernel_61995/1773437933.py:83: UserWarning: Column names longer than 10 characters will be truncated when saved to ESRI Shapefile.\n",
      "  current_hylak_gdf.to_file(current_hylak_buffered_save_path)\n"
     ]
    },
    {
     "name": "stdout",
     "output_type": "stream",
     "text": [
      "Processing /WORK/Data/global_lake_area/lake_shps/HydroLAKES_updated_using_GLAKES/per_basin_no_contained_new/hylak_unbuffered_updated_no_contained_5020049720.shp...\n",
      "Caculating buffer size for /WORK/Data/global_lake_area/lake_shps/HydroLAKES_updated_using_GLAKES/per_basin_no_contained_new/hylak_unbuffered_updated_no_contained_5020049720.shp...\n",
      "Simplifying /WORK/Data/global_lake_area/lake_shps/HydroLAKES_updated_using_GLAKES/per_basin_no_contained_new/hylak_unbuffered_updated_no_contained_5020049720.shp...\n",
      "Buffering /WORK/Data/global_lake_area/lake_shps/HydroLAKES_updated_using_GLAKES/per_basin_no_contained_new/hylak_unbuffered_updated_no_contained_5020049720.shp...\n"
     ]
    },
    {
     "name": "stderr",
     "output_type": "stream",
     "text": [
      "/tmp/ipykernel_61995/1773437933.py:83: UserWarning: Column names longer than 10 characters will be truncated when saved to ESRI Shapefile.\n",
      "  current_hylak_gdf.to_file(current_hylak_buffered_save_path)\n"
     ]
    },
    {
     "name": "stdout",
     "output_type": "stream",
     "text": [
      "Processing /WORK/Data/global_lake_area/lake_shps/HydroLAKES_updated_using_GLAKES/per_basin_no_contained_new/hylak_unbuffered_updated_no_contained_5020082270.shp...\n",
      "Caculating buffer size for /WORK/Data/global_lake_area/lake_shps/HydroLAKES_updated_using_GLAKES/per_basin_no_contained_new/hylak_unbuffered_updated_no_contained_5020082270.shp...\n",
      "Simplifying /WORK/Data/global_lake_area/lake_shps/HydroLAKES_updated_using_GLAKES/per_basin_no_contained_new/hylak_unbuffered_updated_no_contained_5020082270.shp...\n",
      "Buffering /WORK/Data/global_lake_area/lake_shps/HydroLAKES_updated_using_GLAKES/per_basin_no_contained_new/hylak_unbuffered_updated_no_contained_5020082270.shp...\n"
     ]
    },
    {
     "name": "stderr",
     "output_type": "stream",
     "text": [
      "/tmp/ipykernel_61995/1773437933.py:83: UserWarning: Column names longer than 10 characters will be truncated when saved to ESRI Shapefile.\n",
      "  current_hylak_gdf.to_file(current_hylak_buffered_save_path)\n"
     ]
    },
    {
     "name": "stdout",
     "output_type": "stream",
     "text": [
      "Processing /WORK/Data/global_lake_area/lake_shps/HydroLAKES_updated_using_GLAKES/per_basin_no_contained_new/hylak_unbuffered_updated_no_contained_6020000010.shp...\n",
      "Caculating buffer size for /WORK/Data/global_lake_area/lake_shps/HydroLAKES_updated_using_GLAKES/per_basin_no_contained_new/hylak_unbuffered_updated_no_contained_6020000010.shp...\n",
      "Simplifying /WORK/Data/global_lake_area/lake_shps/HydroLAKES_updated_using_GLAKES/per_basin_no_contained_new/hylak_unbuffered_updated_no_contained_6020000010.shp...\n",
      "Buffering /WORK/Data/global_lake_area/lake_shps/HydroLAKES_updated_using_GLAKES/per_basin_no_contained_new/hylak_unbuffered_updated_no_contained_6020000010.shp...\n"
     ]
    },
    {
     "name": "stderr",
     "output_type": "stream",
     "text": [
      "/tmp/ipykernel_61995/1773437933.py:83: UserWarning: Column names longer than 10 characters will be truncated when saved to ESRI Shapefile.\n",
      "  current_hylak_gdf.to_file(current_hylak_buffered_save_path)\n"
     ]
    },
    {
     "name": "stdout",
     "output_type": "stream",
     "text": [
      "Processing /WORK/Data/global_lake_area/lake_shps/HydroLAKES_updated_using_GLAKES/per_basin_no_contained_new/hylak_unbuffered_updated_no_contained_6020006540.shp...\n",
      "Caculating buffer size for /WORK/Data/global_lake_area/lake_shps/HydroLAKES_updated_using_GLAKES/per_basin_no_contained_new/hylak_unbuffered_updated_no_contained_6020006540.shp...\n",
      "Simplifying /WORK/Data/global_lake_area/lake_shps/HydroLAKES_updated_using_GLAKES/per_basin_no_contained_new/hylak_unbuffered_updated_no_contained_6020006540.shp...\n",
      "Buffering /WORK/Data/global_lake_area/lake_shps/HydroLAKES_updated_using_GLAKES/per_basin_no_contained_new/hylak_unbuffered_updated_no_contained_6020006540.shp...\n"
     ]
    },
    {
     "name": "stderr",
     "output_type": "stream",
     "text": [
      "/tmp/ipykernel_61995/1773437933.py:83: UserWarning: Column names longer than 10 characters will be truncated when saved to ESRI Shapefile.\n",
      "  current_hylak_gdf.to_file(current_hylak_buffered_save_path)\n"
     ]
    },
    {
     "name": "stdout",
     "output_type": "stream",
     "text": [
      "Processing /WORK/Data/global_lake_area/lake_shps/HydroLAKES_updated_using_GLAKES/per_basin_no_contained_new/hylak_unbuffered_updated_no_contained_6020008320.shp...\n",
      "Caculating buffer size for /WORK/Data/global_lake_area/lake_shps/HydroLAKES_updated_using_GLAKES/per_basin_no_contained_new/hylak_unbuffered_updated_no_contained_6020008320.shp...\n",
      "Simplifying /WORK/Data/global_lake_area/lake_shps/HydroLAKES_updated_using_GLAKES/per_basin_no_contained_new/hylak_unbuffered_updated_no_contained_6020008320.shp...\n",
      "Buffering /WORK/Data/global_lake_area/lake_shps/HydroLAKES_updated_using_GLAKES/per_basin_no_contained_new/hylak_unbuffered_updated_no_contained_6020008320.shp...\n"
     ]
    },
    {
     "name": "stderr",
     "output_type": "stream",
     "text": [
      "/tmp/ipykernel_61995/1773437933.py:83: UserWarning: Column names longer than 10 characters will be truncated when saved to ESRI Shapefile.\n",
      "  current_hylak_gdf.to_file(current_hylak_buffered_save_path)\n"
     ]
    },
    {
     "name": "stdout",
     "output_type": "stream",
     "text": [
      "Processing /WORK/Data/global_lake_area/lake_shps/HydroLAKES_updated_using_GLAKES/per_basin_no_contained_new/hylak_unbuffered_updated_no_contained_6020014330.shp...\n",
      "Caculating buffer size for /WORK/Data/global_lake_area/lake_shps/HydroLAKES_updated_using_GLAKES/per_basin_no_contained_new/hylak_unbuffered_updated_no_contained_6020014330.shp...\n",
      "Simplifying /WORK/Data/global_lake_area/lake_shps/HydroLAKES_updated_using_GLAKES/per_basin_no_contained_new/hylak_unbuffered_updated_no_contained_6020014330.shp...\n",
      "Buffering /WORK/Data/global_lake_area/lake_shps/HydroLAKES_updated_using_GLAKES/per_basin_no_contained_new/hylak_unbuffered_updated_no_contained_6020014330.shp...\n"
     ]
    },
    {
     "name": "stderr",
     "output_type": "stream",
     "text": [
      "/tmp/ipykernel_61995/1773437933.py:83: UserWarning: Column names longer than 10 characters will be truncated when saved to ESRI Shapefile.\n",
      "  current_hylak_gdf.to_file(current_hylak_buffered_save_path)\n"
     ]
    },
    {
     "name": "stdout",
     "output_type": "stream",
     "text": [
      "Processing /WORK/Data/global_lake_area/lake_shps/HydroLAKES_updated_using_GLAKES/per_basin_no_contained_new/hylak_unbuffered_updated_no_contained_6020017370.shp...\n",
      "Caculating buffer size for /WORK/Data/global_lake_area/lake_shps/HydroLAKES_updated_using_GLAKES/per_basin_no_contained_new/hylak_unbuffered_updated_no_contained_6020017370.shp...\n",
      "Simplifying /WORK/Data/global_lake_area/lake_shps/HydroLAKES_updated_using_GLAKES/per_basin_no_contained_new/hylak_unbuffered_updated_no_contained_6020017370.shp...\n",
      "Buffering /WORK/Data/global_lake_area/lake_shps/HydroLAKES_updated_using_GLAKES/per_basin_no_contained_new/hylak_unbuffered_updated_no_contained_6020017370.shp...\n"
     ]
    },
    {
     "name": "stderr",
     "output_type": "stream",
     "text": [
      "/tmp/ipykernel_61995/1773437933.py:83: UserWarning: Column names longer than 10 characters will be truncated when saved to ESRI Shapefile.\n",
      "  current_hylak_gdf.to_file(current_hylak_buffered_save_path)\n"
     ]
    },
    {
     "name": "stdout",
     "output_type": "stream",
     "text": [
      "Processing /WORK/Data/global_lake_area/lake_shps/HydroLAKES_updated_using_GLAKES/per_basin_no_contained_new/hylak_unbuffered_updated_no_contained_6020021870.shp...\n",
      "Caculating buffer size for /WORK/Data/global_lake_area/lake_shps/HydroLAKES_updated_using_GLAKES/per_basin_no_contained_new/hylak_unbuffered_updated_no_contained_6020021870.shp...\n",
      "Simplifying /WORK/Data/global_lake_area/lake_shps/HydroLAKES_updated_using_GLAKES/per_basin_no_contained_new/hylak_unbuffered_updated_no_contained_6020021870.shp...\n",
      "Buffering /WORK/Data/global_lake_area/lake_shps/HydroLAKES_updated_using_GLAKES/per_basin_no_contained_new/hylak_unbuffered_updated_no_contained_6020021870.shp...\n"
     ]
    },
    {
     "name": "stderr",
     "output_type": "stream",
     "text": [
      "/tmp/ipykernel_61995/1773437933.py:83: UserWarning: Column names longer than 10 characters will be truncated when saved to ESRI Shapefile.\n",
      "  current_hylak_gdf.to_file(current_hylak_buffered_save_path)\n"
     ]
    },
    {
     "name": "stdout",
     "output_type": "stream",
     "text": [
      "Processing /WORK/Data/global_lake_area/lake_shps/HydroLAKES_updated_using_GLAKES/per_basin_no_contained_new/hylak_unbuffered_updated_no_contained_6020029280.shp...\n",
      "Caculating buffer size for /WORK/Data/global_lake_area/lake_shps/HydroLAKES_updated_using_GLAKES/per_basin_no_contained_new/hylak_unbuffered_updated_no_contained_6020029280.shp...\n",
      "Simplifying /WORK/Data/global_lake_area/lake_shps/HydroLAKES_updated_using_GLAKES/per_basin_no_contained_new/hylak_unbuffered_updated_no_contained_6020029280.shp...\n",
      "Buffering /WORK/Data/global_lake_area/lake_shps/HydroLAKES_updated_using_GLAKES/per_basin_no_contained_new/hylak_unbuffered_updated_no_contained_6020029280.shp...\n"
     ]
    },
    {
     "name": "stderr",
     "output_type": "stream",
     "text": [
      "/tmp/ipykernel_61995/1773437933.py:83: UserWarning: Column names longer than 10 characters will be truncated when saved to ESRI Shapefile.\n",
      "  current_hylak_gdf.to_file(current_hylak_buffered_save_path)\n"
     ]
    },
    {
     "name": "stdout",
     "output_type": "stream",
     "text": [
      "Processing /WORK/Data/global_lake_area/lake_shps/HydroLAKES_updated_using_GLAKES/per_basin_no_contained_new/hylak_unbuffered_updated_no_contained_7020000010.shp...\n",
      "Caculating buffer size for /WORK/Data/global_lake_area/lake_shps/HydroLAKES_updated_using_GLAKES/per_basin_no_contained_new/hylak_unbuffered_updated_no_contained_7020000010.shp...\n",
      "Simplifying /WORK/Data/global_lake_area/lake_shps/HydroLAKES_updated_using_GLAKES/per_basin_no_contained_new/hylak_unbuffered_updated_no_contained_7020000010.shp...\n",
      "Buffering /WORK/Data/global_lake_area/lake_shps/HydroLAKES_updated_using_GLAKES/per_basin_no_contained_new/hylak_unbuffered_updated_no_contained_7020000010.shp...\n"
     ]
    },
    {
     "name": "stderr",
     "output_type": "stream",
     "text": [
      "/tmp/ipykernel_61995/1773437933.py:83: UserWarning: Column names longer than 10 characters will be truncated when saved to ESRI Shapefile.\n",
      "  current_hylak_gdf.to_file(current_hylak_buffered_save_path)\n"
     ]
    },
    {
     "name": "stdout",
     "output_type": "stream",
     "text": [
      "Processing /WORK/Data/global_lake_area/lake_shps/HydroLAKES_updated_using_GLAKES/per_basin_no_contained_new/hylak_unbuffered_updated_no_contained_7020014250.shp...\n",
      "Caculating buffer size for /WORK/Data/global_lake_area/lake_shps/HydroLAKES_updated_using_GLAKES/per_basin_no_contained_new/hylak_unbuffered_updated_no_contained_7020014250.shp...\n",
      "Simplifying /WORK/Data/global_lake_area/lake_shps/HydroLAKES_updated_using_GLAKES/per_basin_no_contained_new/hylak_unbuffered_updated_no_contained_7020014250.shp...\n",
      "Buffering /WORK/Data/global_lake_area/lake_shps/HydroLAKES_updated_using_GLAKES/per_basin_no_contained_new/hylak_unbuffered_updated_no_contained_7020014250.shp...\n"
     ]
    },
    {
     "name": "stderr",
     "output_type": "stream",
     "text": [
      "/tmp/ipykernel_61995/1773437933.py:83: UserWarning: Column names longer than 10 characters will be truncated when saved to ESRI Shapefile.\n",
      "  current_hylak_gdf.to_file(current_hylak_buffered_save_path)\n"
     ]
    },
    {
     "name": "stdout",
     "output_type": "stream",
     "text": [
      "Processing /WORK/Data/global_lake_area/lake_shps/HydroLAKES_updated_using_GLAKES/per_basin_no_contained_new/hylak_unbuffered_updated_no_contained_7020021430.shp...\n",
      "Caculating buffer size for /WORK/Data/global_lake_area/lake_shps/HydroLAKES_updated_using_GLAKES/per_basin_no_contained_new/hylak_unbuffered_updated_no_contained_7020021430.shp...\n",
      "Simplifying /WORK/Data/global_lake_area/lake_shps/HydroLAKES_updated_using_GLAKES/per_basin_no_contained_new/hylak_unbuffered_updated_no_contained_7020021430.shp...\n",
      "Buffering /WORK/Data/global_lake_area/lake_shps/HydroLAKES_updated_using_GLAKES/per_basin_no_contained_new/hylak_unbuffered_updated_no_contained_7020021430.shp...\n"
     ]
    },
    {
     "name": "stderr",
     "output_type": "stream",
     "text": [
      "/tmp/ipykernel_61995/1773437933.py:83: UserWarning: Column names longer than 10 characters will be truncated when saved to ESRI Shapefile.\n",
      "  current_hylak_gdf.to_file(current_hylak_buffered_save_path)\n"
     ]
    },
    {
     "name": "stdout",
     "output_type": "stream",
     "text": [
      "Processing /WORK/Data/global_lake_area/lake_shps/HydroLAKES_updated_using_GLAKES/per_basin_no_contained_new/hylak_unbuffered_updated_no_contained_7020024600.shp...\n",
      "Caculating buffer size for /WORK/Data/global_lake_area/lake_shps/HydroLAKES_updated_using_GLAKES/per_basin_no_contained_new/hylak_unbuffered_updated_no_contained_7020024600.shp...\n",
      "Simplifying /WORK/Data/global_lake_area/lake_shps/HydroLAKES_updated_using_GLAKES/per_basin_no_contained_new/hylak_unbuffered_updated_no_contained_7020024600.shp...\n",
      "Buffering /WORK/Data/global_lake_area/lake_shps/HydroLAKES_updated_using_GLAKES/per_basin_no_contained_new/hylak_unbuffered_updated_no_contained_7020024600.shp...\n"
     ]
    },
    {
     "name": "stderr",
     "output_type": "stream",
     "text": [
      "/tmp/ipykernel_61995/1773437933.py:83: UserWarning: Column names longer than 10 characters will be truncated when saved to ESRI Shapefile.\n",
      "  current_hylak_gdf.to_file(current_hylak_buffered_save_path)\n"
     ]
    },
    {
     "name": "stdout",
     "output_type": "stream",
     "text": [
      "Processing /WORK/Data/global_lake_area/lake_shps/HydroLAKES_updated_using_GLAKES/per_basin_no_contained_new/hylak_unbuffered_updated_no_contained_7020038340.shp...\n",
      "Caculating buffer size for /WORK/Data/global_lake_area/lake_shps/HydroLAKES_updated_using_GLAKES/per_basin_no_contained_new/hylak_unbuffered_updated_no_contained_7020038340.shp...\n",
      "Simplifying /WORK/Data/global_lake_area/lake_shps/HydroLAKES_updated_using_GLAKES/per_basin_no_contained_new/hylak_unbuffered_updated_no_contained_7020038340.shp...\n",
      "Buffering /WORK/Data/global_lake_area/lake_shps/HydroLAKES_updated_using_GLAKES/per_basin_no_contained_new/hylak_unbuffered_updated_no_contained_7020038340.shp...\n"
     ]
    },
    {
     "name": "stderr",
     "output_type": "stream",
     "text": [
      "/tmp/ipykernel_61995/1773437933.py:83: UserWarning: Column names longer than 10 characters will be truncated when saved to ESRI Shapefile.\n",
      "  current_hylak_gdf.to_file(current_hylak_buffered_save_path)\n"
     ]
    },
    {
     "name": "stdout",
     "output_type": "stream",
     "text": [
      "Processing /WORK/Data/global_lake_area/lake_shps/HydroLAKES_updated_using_GLAKES/per_basin_no_contained_new/hylak_unbuffered_updated_no_contained_7020046750.shp...\n",
      "Caculating buffer size for /WORK/Data/global_lake_area/lake_shps/HydroLAKES_updated_using_GLAKES/per_basin_no_contained_new/hylak_unbuffered_updated_no_contained_7020046750.shp...\n",
      "Simplifying /WORK/Data/global_lake_area/lake_shps/HydroLAKES_updated_using_GLAKES/per_basin_no_contained_new/hylak_unbuffered_updated_no_contained_7020046750.shp...\n",
      "Buffering /WORK/Data/global_lake_area/lake_shps/HydroLAKES_updated_using_GLAKES/per_basin_no_contained_new/hylak_unbuffered_updated_no_contained_7020046750.shp...\n"
     ]
    },
    {
     "name": "stderr",
     "output_type": "stream",
     "text": [
      "/tmp/ipykernel_61995/1773437933.py:83: UserWarning: Column names longer than 10 characters will be truncated when saved to ESRI Shapefile.\n",
      "  current_hylak_gdf.to_file(current_hylak_buffered_save_path)\n"
     ]
    },
    {
     "name": "stdout",
     "output_type": "stream",
     "text": [
      "Processing /WORK/Data/global_lake_area/lake_shps/HydroLAKES_updated_using_GLAKES/per_basin_no_contained_new/hylak_unbuffered_updated_no_contained_7020047840.shp...\n",
      "Caculating buffer size for /WORK/Data/global_lake_area/lake_shps/HydroLAKES_updated_using_GLAKES/per_basin_no_contained_new/hylak_unbuffered_updated_no_contained_7020047840.shp...\n",
      "Simplifying /WORK/Data/global_lake_area/lake_shps/HydroLAKES_updated_using_GLAKES/per_basin_no_contained_new/hylak_unbuffered_updated_no_contained_7020047840.shp...\n",
      "Buffering /WORK/Data/global_lake_area/lake_shps/HydroLAKES_updated_using_GLAKES/per_basin_no_contained_new/hylak_unbuffered_updated_no_contained_7020047840.shp...\n"
     ]
    },
    {
     "name": "stderr",
     "output_type": "stream",
     "text": [
      "/tmp/ipykernel_61995/1773437933.py:83: UserWarning: Column names longer than 10 characters will be truncated when saved to ESRI Shapefile.\n",
      "  current_hylak_gdf.to_file(current_hylak_buffered_save_path)\n"
     ]
    },
    {
     "name": "stdout",
     "output_type": "stream",
     "text": [
      "Processing /WORK/Data/global_lake_area/lake_shps/HydroLAKES_updated_using_GLAKES/per_basin_no_contained_new/hylak_unbuffered_updated_no_contained_7020065090.shp...\n",
      "Caculating buffer size for /WORK/Data/global_lake_area/lake_shps/HydroLAKES_updated_using_GLAKES/per_basin_no_contained_new/hylak_unbuffered_updated_no_contained_7020065090.shp...\n",
      "Simplifying /WORK/Data/global_lake_area/lake_shps/HydroLAKES_updated_using_GLAKES/per_basin_no_contained_new/hylak_unbuffered_updated_no_contained_7020065090.shp...\n",
      "Buffering /WORK/Data/global_lake_area/lake_shps/HydroLAKES_updated_using_GLAKES/per_basin_no_contained_new/hylak_unbuffered_updated_no_contained_7020065090.shp...\n"
     ]
    },
    {
     "name": "stderr",
     "output_type": "stream",
     "text": [
      "/tmp/ipykernel_61995/1773437933.py:83: UserWarning: Column names longer than 10 characters will be truncated when saved to ESRI Shapefile.\n",
      "  current_hylak_gdf.to_file(current_hylak_buffered_save_path)\n"
     ]
    },
    {
     "name": "stdout",
     "output_type": "stream",
     "text": [
      "Processing /WORK/Data/global_lake_area/lake_shps/HydroLAKES_updated_using_GLAKES/per_basin_no_contained_new/hylak_unbuffered_updated_no_contained_8020000010.shp...\n",
      "Caculating buffer size for /WORK/Data/global_lake_area/lake_shps/HydroLAKES_updated_using_GLAKES/per_basin_no_contained_new/hylak_unbuffered_updated_no_contained_8020000010.shp...\n",
      "Simplifying /WORK/Data/global_lake_area/lake_shps/HydroLAKES_updated_using_GLAKES/per_basin_no_contained_new/hylak_unbuffered_updated_no_contained_8020000010.shp...\n",
      "Buffering /WORK/Data/global_lake_area/lake_shps/HydroLAKES_updated_using_GLAKES/per_basin_no_contained_new/hylak_unbuffered_updated_no_contained_8020000010.shp...\n"
     ]
    },
    {
     "name": "stderr",
     "output_type": "stream",
     "text": [
      "/tmp/ipykernel_61995/1773437933.py:83: UserWarning: Column names longer than 10 characters will be truncated when saved to ESRI Shapefile.\n",
      "  current_hylak_gdf.to_file(current_hylak_buffered_save_path)\n"
     ]
    },
    {
     "name": "stdout",
     "output_type": "stream",
     "text": [
      "Processing /WORK/Data/global_lake_area/lake_shps/HydroLAKES_updated_using_GLAKES/per_basin_no_contained_new/hylak_unbuffered_updated_no_contained_8020008900.shp...\n",
      "Caculating buffer size for /WORK/Data/global_lake_area/lake_shps/HydroLAKES_updated_using_GLAKES/per_basin_no_contained_new/hylak_unbuffered_updated_no_contained_8020008900.shp...\n",
      "Simplifying /WORK/Data/global_lake_area/lake_shps/HydroLAKES_updated_using_GLAKES/per_basin_no_contained_new/hylak_unbuffered_updated_no_contained_8020008900.shp...\n",
      "Buffering /WORK/Data/global_lake_area/lake_shps/HydroLAKES_updated_using_GLAKES/per_basin_no_contained_new/hylak_unbuffered_updated_no_contained_8020008900.shp...\n"
     ]
    },
    {
     "name": "stderr",
     "output_type": "stream",
     "text": [
      "/tmp/ipykernel_61995/1773437933.py:83: UserWarning: Column names longer than 10 characters will be truncated when saved to ESRI Shapefile.\n",
      "  current_hylak_gdf.to_file(current_hylak_buffered_save_path)\n"
     ]
    },
    {
     "name": "stdout",
     "output_type": "stream",
     "text": [
      "Processing /WORK/Data/global_lake_area/lake_shps/HydroLAKES_updated_using_GLAKES/per_basin_no_contained_new/hylak_unbuffered_updated_no_contained_8020010700.shp...\n",
      "Caculating buffer size for /WORK/Data/global_lake_area/lake_shps/HydroLAKES_updated_using_GLAKES/per_basin_no_contained_new/hylak_unbuffered_updated_no_contained_8020010700.shp...\n",
      "Simplifying /WORK/Data/global_lake_area/lake_shps/HydroLAKES_updated_using_GLAKES/per_basin_no_contained_new/hylak_unbuffered_updated_no_contained_8020010700.shp...\n",
      "Buffering /WORK/Data/global_lake_area/lake_shps/HydroLAKES_updated_using_GLAKES/per_basin_no_contained_new/hylak_unbuffered_updated_no_contained_8020010700.shp...\n"
     ]
    },
    {
     "name": "stderr",
     "output_type": "stream",
     "text": [
      "/tmp/ipykernel_61995/1773437933.py:83: UserWarning: Column names longer than 10 characters will be truncated when saved to ESRI Shapefile.\n",
      "  current_hylak_gdf.to_file(current_hylak_buffered_save_path)\n"
     ]
    },
    {
     "name": "stdout",
     "output_type": "stream",
     "text": [
      "Processing /WORK/Data/global_lake_area/lake_shps/HydroLAKES_updated_using_GLAKES/per_basin_no_contained_new/hylak_unbuffered_updated_no_contained_8020020760.shp...\n",
      "Caculating buffer size for /WORK/Data/global_lake_area/lake_shps/HydroLAKES_updated_using_GLAKES/per_basin_no_contained_new/hylak_unbuffered_updated_no_contained_8020020760.shp...\n",
      "Simplifying /WORK/Data/global_lake_area/lake_shps/HydroLAKES_updated_using_GLAKES/per_basin_no_contained_new/hylak_unbuffered_updated_no_contained_8020020760.shp...\n",
      "Buffering /WORK/Data/global_lake_area/lake_shps/HydroLAKES_updated_using_GLAKES/per_basin_no_contained_new/hylak_unbuffered_updated_no_contained_8020020760.shp...\n"
     ]
    },
    {
     "name": "stderr",
     "output_type": "stream",
     "text": [
      "/tmp/ipykernel_61995/1773437933.py:83: UserWarning: Column names longer than 10 characters will be truncated when saved to ESRI Shapefile.\n",
      "  current_hylak_gdf.to_file(current_hylak_buffered_save_path)\n"
     ]
    },
    {
     "name": "stdout",
     "output_type": "stream",
     "text": [
      "Processing /WORK/Data/global_lake_area/lake_shps/HydroLAKES_updated_using_GLAKES/per_basin_no_contained_new/hylak_unbuffered_updated_no_contained_8020022890.shp...\n",
      "Caculating buffer size for /WORK/Data/global_lake_area/lake_shps/HydroLAKES_updated_using_GLAKES/per_basin_no_contained_new/hylak_unbuffered_updated_no_contained_8020022890.shp...\n",
      "Simplifying /WORK/Data/global_lake_area/lake_shps/HydroLAKES_updated_using_GLAKES/per_basin_no_contained_new/hylak_unbuffered_updated_no_contained_8020022890.shp...\n",
      "Buffering /WORK/Data/global_lake_area/lake_shps/HydroLAKES_updated_using_GLAKES/per_basin_no_contained_new/hylak_unbuffered_updated_no_contained_8020022890.shp...\n"
     ]
    },
    {
     "name": "stderr",
     "output_type": "stream",
     "text": [
      "/tmp/ipykernel_61995/1773437933.py:83: UserWarning: Column names longer than 10 characters will be truncated when saved to ESRI Shapefile.\n",
      "  current_hylak_gdf.to_file(current_hylak_buffered_save_path)\n"
     ]
    },
    {
     "name": "stdout",
     "output_type": "stream",
     "text": [
      "Processing /WORK/Data/global_lake_area/lake_shps/HydroLAKES_updated_using_GLAKES/per_basin_no_contained_new/hylak_unbuffered_updated_no_contained_8020032840.shp...\n",
      "Caculating buffer size for /WORK/Data/global_lake_area/lake_shps/HydroLAKES_updated_using_GLAKES/per_basin_no_contained_new/hylak_unbuffered_updated_no_contained_8020032840.shp...\n",
      "Simplifying /WORK/Data/global_lake_area/lake_shps/HydroLAKES_updated_using_GLAKES/per_basin_no_contained_new/hylak_unbuffered_updated_no_contained_8020032840.shp...\n",
      "Buffering /WORK/Data/global_lake_area/lake_shps/HydroLAKES_updated_using_GLAKES/per_basin_no_contained_new/hylak_unbuffered_updated_no_contained_8020032840.shp...\n"
     ]
    },
    {
     "name": "stderr",
     "output_type": "stream",
     "text": [
      "/tmp/ipykernel_61995/1773437933.py:83: UserWarning: Column names longer than 10 characters will be truncated when saved to ESRI Shapefile.\n",
      "  current_hylak_gdf.to_file(current_hylak_buffered_save_path)\n"
     ]
    },
    {
     "name": "stdout",
     "output_type": "stream",
     "text": [
      "Processing /WORK/Data/global_lake_area/lake_shps/HydroLAKES_updated_using_GLAKES/per_basin_no_contained_new/hylak_unbuffered_updated_no_contained_8020044560.shp...\n",
      "Caculating buffer size for /WORK/Data/global_lake_area/lake_shps/HydroLAKES_updated_using_GLAKES/per_basin_no_contained_new/hylak_unbuffered_updated_no_contained_8020044560.shp...\n",
      "Simplifying /WORK/Data/global_lake_area/lake_shps/HydroLAKES_updated_using_GLAKES/per_basin_no_contained_new/hylak_unbuffered_updated_no_contained_8020044560.shp...\n",
      "Buffering /WORK/Data/global_lake_area/lake_shps/HydroLAKES_updated_using_GLAKES/per_basin_no_contained_new/hylak_unbuffered_updated_no_contained_8020044560.shp...\n"
     ]
    },
    {
     "name": "stderr",
     "output_type": "stream",
     "text": [
      "/tmp/ipykernel_61995/1773437933.py:83: UserWarning: Column names longer than 10 characters will be truncated when saved to ESRI Shapefile.\n",
      "  current_hylak_gdf.to_file(current_hylak_buffered_save_path)\n"
     ]
    },
    {
     "name": "stdout",
     "output_type": "stream",
     "text": [
      "Processing /WORK/Data/global_lake_area/lake_shps/HydroLAKES_updated_using_GLAKES/per_basin_no_contained_new/hylak_unbuffered_updated_no_contained_9020000010.shp...\n",
      "Caculating buffer size for /WORK/Data/global_lake_area/lake_shps/HydroLAKES_updated_using_GLAKES/per_basin_no_contained_new/hylak_unbuffered_updated_no_contained_9020000010.shp...\n",
      "Simplifying /WORK/Data/global_lake_area/lake_shps/HydroLAKES_updated_using_GLAKES/per_basin_no_contained_new/hylak_unbuffered_updated_no_contained_9020000010.shp...\n",
      "Buffering /WORK/Data/global_lake_area/lake_shps/HydroLAKES_updated_using_GLAKES/per_basin_no_contained_new/hylak_unbuffered_updated_no_contained_9020000010.shp...\n"
     ]
    },
    {
     "name": "stderr",
     "output_type": "stream",
     "text": [
      "/tmp/ipykernel_61995/1773437933.py:83: UserWarning: Column names longer than 10 characters will be truncated when saved to ESRI Shapefile.\n",
      "  current_hylak_gdf.to_file(current_hylak_buffered_save_path)\n"
     ]
    },
    {
     "ename": "",
     "evalue": "",
     "output_type": "error",
     "traceback": [
      "\u001b[1;31mThe Kernel crashed while executing code in the current cell or a previous cell. \n",
      "\u001b[1;31mPlease review the code in the cell(s) to identify a possible cause of the failure. \n",
      "\u001b[1;31mClick <a href='https://aka.ms/vscodeJupyterKernelCrash'>here</a> for more info. \n",
      "\u001b[1;31mView Jupyter <a href='command:jupyter.viewOutput'>log</a> for further details."
     ]
    }
   ],
   "source": [
    "def read_wkt(file_path):\n",
    "    # Step 1: Read the WKT string from the file\n",
    "    with open(file_path, 'r') as file:\n",
    "        wkt_string = file.read()\n",
    "    return wkt_string\n",
    "\n",
    "def calculate_buffer_size(row, lake_area_min, lake_area_max, slope_100_min, slope_100_max, buffer_min, buffer_max):\n",
    "    slope_100 = row['Slope_100']\n",
    "    lake_area = row['Lake_area']\n",
    "    buffer_adjust_ratio = (lake_area - lake_area_min) / (lake_area_max - lake_area_min)\n",
    "    if buffer_adjust_ratio < 0:\n",
    "        buffer_adjust_ratio = 0\n",
    "    if buffer_adjust_ratio > 1:\n",
    "        buffer_adjust_ratio = 1\n",
    "    slope_inflation_factor = 0.5 if slope_100 == -1 else (slope_100_max - slope_100) / (slope_100_max - slope_100_min)\n",
    "    slope_inflation_factor += 1\n",
    "    buffer_size = (buffer_min + buffer_adjust_ratio * (buffer_max - buffer_min)) * slope_inflation_factor\n",
    "    return buffer_size\n",
    "\n",
    "from pandarallel import pandarallel\n",
    "print('Initializing pandarallel...')\n",
    "pandarallel.initialize(progress_bar=False, nb_workers=12, use_memory_fs = False)\n",
    "\n",
    "hybas_id_list = [\n",
    "    1020000010, 1020011530, 1020018110, 1020021940, 1020027430, 1020034170, 1020035180, 1020040190,\n",
    "    2020000010, 2020003440, 2020018240, 2020024230, 2020033490, 2020041390, 2020057170, 2020065840, 2020071190,\n",
    "    3020000010, 3020003790, 3020005240, 3020008670, 3020009320, 3020024310,\n",
    "    4020000010, 4020006940, 4020015090, 4020024190, 4020034510, 4020050210, 4020050220, 4020050290, 4020050470,\n",
    "    5020000010, 5020015660, 5020037270, 5020049720, 5020082270, \n",
    "    6020000010, 6020006540, 6020008320, 6020014330, 6020017370, 6020021870, 6020029280,\n",
    "    7020000010, 7020014250, 7020021430, 7020024600, 7020038340, 7020046750, 7020047840, 7020065090,\n",
    "    8020000010, 8020008900, 8020010700, 8020020760, 8020022890, 8020032840, 8020044560,\n",
    "    9020000010\n",
    "]\n",
    "hylak_folder = '/WORK/Data/global_lake_area/lake_shps/HydroLAKES_updated_using_GLAKES/per_basin_no_contained_new'\n",
    "hylak_filename_pattern = 'hylak_unbuffered_updated_no_contained_{hybas_id}.shp'\n",
    "projection_folder = '/WORK/Codes/global_lake_area/projection_wkt/Lambert_Azimuthal_Equal_Area'\n",
    "projection_filename_pattern = '{hybas_id}.wkt'\n",
    "hylak_buffered_save_folder = '/WORK/Data/global_lake_area/lake_shps/HydroLAKES_updated_using_GLAKES/per_basin_no_contained_buffered'\n",
    "if not os.path.exists(hylak_buffered_save_folder):\n",
    "    os.makedirs(hylak_buffered_save_folder)\n",
    "hylak_buffered_filename_pattern = 'hylak_buffered_updated_no_contained_{hybas_id}.shp'\n",
    "\n",
    "use_parallel = True\n",
    "\n",
    "for hybas_id in hybas_id_list:\n",
    "    current_hylak_path = os.path.join(hylak_folder, hylak_filename_pattern.format(hybas_id=hybas_id))\n",
    "    print(f'Processing {current_hylak_path}...')\n",
    "    current_hylak_gdf = gpd.read_file(current_hylak_path)\n",
    "    lake_area_min = 0.1\n",
    "    lake_area_max = 1000\n",
    "        \n",
    "    slope_100_min = current_hylak_gdf['Slope_100'].min()\n",
    "    slope_100_max = current_hylak_gdf['Slope_100'].max()\n",
    "    buffer_min = 90\n",
    "    buffer_max = 2250\n",
    "    print(f'Caculating buffer size for {current_hylak_path}...')\n",
    "    if use_parallel:\n",
    "        current_hylak_gdf['Buffer_size'] = current_hylak_gdf.parallel_apply(lambda row: calculate_buffer_size(row, lake_area_min, lake_area_max, slope_100_min, slope_100_max, buffer_min, buffer_max), axis=1)\n",
    "    else:\n",
    "        current_hylak_gdf['Buffer_size'] = current_hylak_gdf.apply(lambda row: calculate_buffer_size(row, lake_area_min, lake_area_max, slope_100_min, slope_100_max, buffer_min, buffer_max), axis=1)\n",
    "    \n",
    "    current_projection_wkt_path = os.path.join(projection_folder, projection_filename_pattern.format(hybas_id=hybas_id))\n",
    "    current_projection_wkt = read_wkt(current_projection_wkt_path)\n",
    "    current_projection = CRS(current_projection_wkt)\n",
    "    \n",
    "    hylak_gdf_original_crs = current_hylak_gdf.crs\n",
    "    current_hylak_gdf = current_hylak_gdf.to_crs(current_projection)\n",
    "    \n",
    "    print(f'Simplifying {current_hylak_path}...')\n",
    "    if use_parallel:\n",
    "        current_hylak_gdf['geometry'] = current_hylak_gdf.parallel_apply(lambda row: row['geometry'].simplify(120), axis=1) # 60 meters\n",
    "    else:\n",
    "        current_hylak_gdf['geometry'] = current_hylak_gdf.simplify(120) # 60 meters\n",
    "    print(f'Buffering {current_hylak_path}...')\n",
    "    if use_parallel:\n",
    "        current_hylak_gdf['geometry'] = current_hylak_gdf.parallel_apply(lambda row: row['geometry'].buffer(row['Buffer_size']), axis=1)\n",
    "    else:\n",
    "        current_hylak_gdf['geometry'] = current_hylak_gdf.buffer(current_hylak_gdf['Buffer_size'])\n",
    "    current_hylak_gdf = current_hylak_gdf.to_crs(hylak_gdf_original_crs)\n",
    "    \n",
    "    current_hylak_buffered_save_path = os.path.join(hylak_buffered_save_folder, hylak_buffered_filename_pattern.format(hybas_id=hybas_id))\n",
    "    current_hylak_gdf.to_file(current_hylak_buffered_save_path)\n",
    "    "
   ]
  }
 ],
 "metadata": {
  "kernelspec": {
   "display_name": "Python 3",
   "language": "python",
   "name": "python3"
  },
  "language_info": {
   "codemirror_mode": {
    "name": "ipython",
    "version": 3
   },
   "file_extension": ".py",
   "mimetype": "text/x-python",
   "name": "python",
   "nbconvert_exporter": "python",
   "pygments_lexer": "ipython3",
   "version": "3.8.10"
  }
 },
 "nbformat": 4,
 "nbformat_minor": 2
}
