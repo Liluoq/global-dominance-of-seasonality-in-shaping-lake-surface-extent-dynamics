{
 "cells": [
  {
   "cell_type": "code",
   "execution_count": null,
   "metadata": {},
   "outputs": [],
   "source": [
    "import ee\n",
    "import shutil\n",
    "import os"
   ]
  },
  {
   "cell_type": "code",
   "execution_count": null,
   "metadata": {},
   "outputs": [],
   "source": [
    "ee.Authenticate(force=True)\n",
    "ee.Initialize()"
   ]
  },
  {
   "cell_type": "code",
   "execution_count": null,
   "metadata": {},
   "outputs": [],
   "source": [
    "def lambert_azimuthal_equal_area_wkt_generation(centroid_lat, centroid_lon, file_path):\n",
    "    projection = \"\"\"\n",
    "    PROJCS[\"Lambert Azimuthal Equal Area\",\n",
    "        GEOGCS[\"GCS_WGS_1984\",\n",
    "            DATUM[\"WGS_1984\",\n",
    "                SPHEROID[\"WGS_84\",6378137,298.257223563]],\n",
    "            PRIMEM[\"Greenwich\",0],\n",
    "            UNIT[\"Degree\",0.0174532925199433]],\n",
    "        PROJECTION[\"Lambert_Azimuthal_Equal_Area\"],\n",
    "        PARAMETER[\"latitude_of_center\", {centroid_lat}],\n",
    "        PARAMETER[\"longitude_of_center\", {centroid_lon}],\n",
    "        PARAMETER[\"false_easting\", 0],\n",
    "        PARAMETER[\"false_northing\", 0],\n",
    "        UNIT[\"Meter\",1]]\n",
    "    \"\"\"\n",
    "    modified_projection = projection.format(centroid_lat=centroid_lat, centroid_lon=centroid_lon)\n",
    "    \n",
    "    # Saving the modified projection to the specified file path\n",
    "    with open(file_path, 'w') as file:\n",
    "        file.write(modified_projection)\n",
    "    \n",
    "    print(f\"Projection saved to {file_path}\")\n",
    "\n",
    "def lambert_conformal_conic(parallel_lat_1, parallel_lat_2, central_meridian, latitude_of_origin, file_path, false_easting=0, false_northing=0,  gcs_scale=0.00026949458523585647, pcs_scale=30):\n",
    "    projection = \"\"\"\n",
    "    PROJCS[\"Custom LCC Projection\",\n",
    "        GEOGCS[\"GCS_WGS_1984\",\n",
    "            DATUM[\"WGS_1984\",\n",
    "                SPHEROID[\"WGS_84\",6378137,298.257223563]],\n",
    "            PRIMEM[\"Greenwich\",0],\n",
    "            UNIT[\"Degree\",{gcs_scale}]],\n",
    "        PROJECTION[\"Lambert_Conformal_Conic\"],\n",
    "        PARAMETER[\"Standard_Parallel_1\", {parallel_lat_1}],\n",
    "        PARAMETER[\"Standard_Parallel_2\", {parallel_lat_2}],\n",
    "        PARAMETER[\"Central_Meridian\", {central_meridian}],\n",
    "        PARAMETER[\"Latitude_Of_Origin\", {latitude_of_origin}],\n",
    "        PARAMETER[\"False_Easting\", {false_easting}],\n",
    "        PARAMETER[\"False_Northing\", {false_northing}],\n",
    "        UNIT[\"Meter\",{pcs_scale}]]\n",
    "    \"\"\"\n",
    "    modified_projection = projection.format(parallel_lat_1=parallel_lat_1, parallel_lat_2=parallel_lat_2, central_meridian=central_meridian, latitude_of_origin=latitude_of_origin, false_easting=false_easting, false_northing=false_northing)\n",
    "    \n",
    "    # Saving the modified projection to the specified file path\n",
    "    with open(file_path, 'w') as file:\n",
    "        file.write(modified_projection)\n",
    "    \n",
    "    print(f\"Projection saved to {file_path}\")\n",
    "    "
   ]
  },
  {
   "cell_type": "code",
   "execution_count": null,
   "metadata": {},
   "outputs": [],
   "source": [
    "hybas_lev02  = ee.FeatureCollection(\"projects/xuzhihongqu/assets/HydroBASINS_lev02/hybas_lev02_v1c_merged_lake_count_added_gt100\")\n",
    "hybas_lev02_size = hybas_lev02.size().getInfo()\n",
    "print(hybas_lev02_size)\n",
    "hybas_lev02_list = hybas_lev02.toList(hybas_lev02_size)"
   ]
  },
  {
   "cell_type": "code",
   "execution_count": null,
   "metadata": {},
   "outputs": [],
   "source": [
    "MODE = 'Lambert_Azimuthal_Equal_Area'\n",
    "for i in range(hybas_lev02_size):\n",
    "    hybas_lev02_feature = ee.Feature(hybas_lev02_list.get(i))\n",
    "    hybas_lev02_id = hybas_lev02_feature.get('HYBAS_ID').getInfo()\n",
    "    hybas_lev02_centroid = hybas_lev02_feature.centroid()\n",
    "    hybas_lev02_centroid_coords = hybas_lev02_centroid.geometry().coordinates().getInfo()\n",
    "    print(hybas_lev02_centroid_coords)\n",
    "    hybas_lev02_centroid_lat = hybas_lev02_centroid_coords[1]\n",
    "    hybas_lev02_centroid_lon = hybas_lev02_centroid_coords[0]\n",
    "    file_path = f'./projection_wkt/{MODE}/{hybas_lev02_id}.wkt'\n",
    "    output_dir = os.path.dirname(file_path)\n",
    "    if not os.path.exists(output_dir):\n",
    "        os.makedirs(output_dir)\n",
    "    lambert_azimuthal_equal_area_wkt_generation(hybas_lev02_centroid_lat, hybas_lev02_centroid_lon, file_path)\n",
    "    \n",
    "    print(f\"Hybas Lev02 ID: {hybas_lev02_id} projection WKT file saved to {file_path}\")"
   ]
  },
  {
   "cell_type": "code",
   "execution_count": null,
   "metadata": {},
   "outputs": [],
   "source": [
    "MODE = 'Lambert_Conformal_Conic'\n",
    "GCS_SCALE = 0.00026949458523585647\n",
    "PCS_SCALE = 30\n",
    "for i in range(hybas_lev02_size):\n",
    "    hybas_lev02_feature = ee.Feature(hybas_lev02_list.get(i))\n",
    "    hybas_lev02_id = hybas_lev02_feature.get('HYBAS_ID').getInfo()\n",
    "    hybas_lev02_bounds = hybas_lev02_feature.bounds()\n",
    "    hybas_lev02_bounds_coords = hybas_lev02_bounds.geometry().coordinates().getInfo()[0]\n",
    "    print(hybas_lev02_bounds_coords)\n",
    "    lat_lower_quarters = hybas_lev02_bounds_coords[0][1] + (hybas_lev02_bounds_coords[2][1] - hybas_lev02_bounds_coords[0][1])/4\n",
    "    lat_upper_quarters = hybas_lev02_bounds_coords[2][1] - (hybas_lev02_bounds_coords[2][1] - hybas_lev02_bounds_coords[0][1])/4\n",
    "    central_lat = (hybas_lev02_bounds_coords[0][1] + hybas_lev02_bounds_coords[2][1])/2\n",
    "    central_lon = hybas_lev02_bounds_coords[0][0] + (hybas_lev02_bounds_coords[2][0] - hybas_lev02_bounds_coords[0][0])/2\n",
    "    print(f'lat_lower_quarters: {lat_lower_quarters}, lat_upper_quarters: {lat_upper_quarters}, central_lat: {central_lat}, central_lon: {central_lon}')\n",
    "    file_path = f'./projection_wkt/{MODE}_{PCS_SCALE}m/{hybas_lev02_id}.wkt'\n",
    "    output_dir = os.path.dirname(file_path)\n",
    "    if not os.path.exists(output_dir):\n",
    "        os.makedirs(output_dir)\n",
    "    lambert_conformal_conic(lat_lower_quarters, lat_upper_quarters, central_lon, central_lat, file_path, gcs_scale=GCS_SCALE, pcs_scale=PCS_SCALE)\n",
    "    \n",
    "    print(f\"Hybas Lev02 ID: {hybas_lev02_id} projection WKT file saved to {file_path}\")"
   ]
  },
  {
   "cell_type": "code",
   "execution_count": null,
   "metadata": {},
   "outputs": [],
   "source": [
    "#test if exported wkt files are correct\n",
    "from osgeo import osr\n",
    "\n",
    "def read_wkt_and_create_srs(file_path):\n",
    "    # Step 1: Read the WKT string from the file\n",
    "    with open(file_path, 'r') as file:\n",
    "        wkt_string = file.read()\n",
    "    \n",
    "    # Step 2: Create an osr.SpatialReference() object from the WKT string\n",
    "    srs = osr.SpatialReference()\n",
    "    srs_error = srs.ImportFromWkt(wkt_string)\n",
    "    \n",
    "    # Step 3: Test if the SRS object is valid\n",
    "    if srs_error == 0:  # Returns 0 if the import was successful\n",
    "        print(\"The WKT string is valid and the SRS object has been created successfully.\")\n",
    "        print(srs.ExportToWkt())  # Optionally print the SRS WKT to verify\n",
    "    else:\n",
    "        print(\"Error: The WKT string is not valid.\")\n",
    "\n",
    "# Example usage\n",
    "file_path = './Lambert_Azimuthal_Equal_Area_30m/6020014330.wkt'  # Specify the path to your WKT file\n",
    "read_wkt_and_create_srs(file_path)"
   ]
  },
  {
   "cell_type": "code",
   "execution_count": null,
   "metadata": {},
   "outputs": [],
   "source": [
    "x = [[[30.52083438328381, -18.188066737266546], [54.538119010327335, -18.188066737266546], [54.538119010327335, 30.137498886324558], [30.52083438328381, 30.137498886324558], [30.52083438328381, -18.188066737266546]]]\n",
    "x[0]"
   ]
  }
 ],
 "metadata": {
  "kernelspec": {
   "display_name": "Python 3",
   "language": "python",
   "name": "python3"
  },
  "language_info": {
   "codemirror_mode": {
    "name": "ipython",
    "version": 3
   },
   "file_extension": ".py",
   "mimetype": "text/x-python",
   "name": "python",
   "nbconvert_exporter": "python",
   "pygments_lexer": "ipython3",
   "version": "3.6.8"
  }
 },
 "nbformat": 4,
 "nbformat_minor": 2
}
