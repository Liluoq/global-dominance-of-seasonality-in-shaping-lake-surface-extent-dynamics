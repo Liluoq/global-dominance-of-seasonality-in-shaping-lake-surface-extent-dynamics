{
 "cells": [
  {
   "cell_type": "code",
   "execution_count": null,
   "metadata": {},
   "outputs": [],
   "source": [
    "import ee"
   ]
  },
  {
   "cell_type": "code",
   "execution_count": null,
   "metadata": {},
   "outputs": [],
   "source": [
    "ee.Authenticate(force=True)\n",
    "ee.Initialize()"
   ]
  },
  {
   "cell_type": "code",
   "execution_count": null,
   "metadata": {},
   "outputs": [],
   "source": [
    "def read_wkt(file_path):\n",
    "    # Step 1: Read the WKT string from the file\n",
    "    with open(file_path, 'r') as file:\n",
    "        wkt_string = file.read()\n",
    "    return wkt_string\n"
   ]
  },
  {
   "cell_type": "code",
   "execution_count": null,
   "metadata": {},
   "outputs": [],
   "source": [
    "projection_type = 'Lambert_Azimuthal_Equal_Area'\n",
    "projection_scale = 30\n",
    "projection_wkt_path = './projection_wkt/{projection_type}/{hybas_id}.wkt'\n",
    "\n",
    "hybas_gt100_id_list = ee.FeatureCollection(\"projects/xuzhihongqu/assets/HydroBASINS_lev02/hybas_lev02_v1c_merged_lake_count_added_gt100\").aggregate_array(\"HYBAS_ID\").getInfo()\n",
    "for hybas_id in hybas_gt100_id_list:\n",
    "    current_projection_wkt_path = projection_wkt_path.format(projection_type=projection_type, projection_scale=projection_scale, hybas_id=hybas_id)\n",
    "    current_projection_wkt = read_wkt(current_projection_wkt_path)\n",
    "    current_region = ee.FeatureCollection(\"projects/xuzhihongqu/assets/HydroLAKES_per_basin_dissolved/hylak_buffered_bounds_dissolved_{}\".format(hybas_id)).geometry(1).bounds(1)\n",
    "    gsw_max_extent = ee.Image('JRC/GSW1_4/GlobalSurfaceWater').select(['occurrence', 'recurrence'], ['GSW_occurrence', 'GSW_recurrence']).reproject(crs=ee.Projection(current_projection_wkt), scale=projection_scale).unmask(0)\n",
    "    task = ee.batch.Export.image.toDrive(\n",
    "        image = gsw_max_extent,\n",
    "        description = \"gsw_occurrence_and_recurrence_30m_laea_{}\".format(hybas_id),\n",
    "        folder = 'gsw_occurrence_and_recurrence',\n",
    "        region = current_region,\n",
    "        scale = projection_scale,\n",
    "        crs = ee.Projection(current_projection_wkt),\n",
    "        maxPixels = 1e13\n",
    "    )\n",
    "    task.start()\n",
    "    print(\"Exporting gsw max_extent image for basin {}\".format(hybas_id))"
   ]
  },
  {
   "cell_type": "code",
   "execution_count": null,
   "metadata": {},
   "outputs": [],
   "source": []
  }
 ],
 "metadata": {
  "kernelspec": {
   "display_name": "Python 3",
   "language": "python",
   "name": "python3"
  },
  "language_info": {
   "codemirror_mode": {
    "name": "ipython",
    "version": 3
   },
   "file_extension": ".py",
   "mimetype": "text/x-python",
   "name": "python",
   "nbconvert_exporter": "python",
   "pygments_lexer": "ipython3",
   "version": "3.6.8"
  }
 },
 "nbformat": 4,
 "nbformat_minor": 2
}
